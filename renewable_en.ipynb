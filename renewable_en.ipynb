{
  "nbformat": 4,
  "nbformat_minor": 0,
  "metadata": {
    "colab": {
      "name": "renewable_en.ipynb",
      "provenance": [],
      "collapsed_sections": [],
      "mount_file_id": "196XfQG7tGuomYsmO_PVOTqJIQzVj8Wa4",
      "authorship_tag": "ABX9TyNBhjk8loGYHI1nUiAWtKp0",
      "include_colab_link": true
    },
    "kernelspec": {
      "display_name": "Python 3",
      "name": "python3"
    },
    "language_info": {
      "name": "python"
    }
  },
  "cells": [
    {
      "cell_type": "markdown",
      "metadata": {
        "id": "view-in-github",
        "colab_type": "text"
      },
      "source": [
        "<a href=\"https://colab.research.google.com/github/mandeebot/Predictive-Maintainance/blob/main/renewable_en.ipynb\" target=\"_parent\"><img src=\"https://colab.research.google.com/assets/colab-badge.svg\" alt=\"Open In Colab\"/></a>"
      ]
    },
    {
      "cell_type": "code",
      "metadata": {
        "id": "QCDJLRiUpXqj"
      },
      "source": [
        ""
      ],
      "execution_count": 1,
      "outputs": []
    },
    {
      "cell_type": "markdown",
      "metadata": {
        "id": "aryGBYgJ_rRN"
      },
      "source": [
        "We Start of our analysis by importing the libraries we would use"
      ]
    },
    {
      "cell_type": "code",
      "metadata": {
        "id": "KpaBgBXZol0y"
      },
      "source": [
        "import pandas as pd\n",
        "import numpy as np\n",
        "import pickle\n"
      ],
      "execution_count": 2,
      "outputs": []
    },
    {
      "cell_type": "code",
      "metadata": {
        "id": "JLugdPw6tBJ8"
      },
      "source": [
        "from sklearn.pipeline import Pipeline\n",
        "from sklearn.model_selection import GridSearchCV\n",
        "from sklearn.preprocessing import MinMaxScaler\n",
        "from sklearn.model_selection import cross_val_score\n",
        "from imblearn.over_sampling import SMOTE\n",
        "from imblearn.under_sampling import NearMiss\n",
        "from imblearn.metrics import classification_report_imbalanced\n",
        "from sklearn.model_selection import KFold, StratifiedKFold\n",
        "import warnings\n",
        "warnings.filterwarnings(\"ignore\")\n",
        "\n",
        "# Classifier Libraries\n",
        "from sklearn.tree import DecisionTreeClassifier\n",
        "from sklearn.ensemble import (AdaBoostClassifier,GradientBoostingClassifier)\n",
        "\n",
        "#Evaluation and cross validation Libraries\n",
        "from sklearn.model_selection import cross_val_predict\n",
        "from sklearn import tree\n",
        "import sklearn.metrics as metrics\n",
        "from sklearn.feature_selection import SelectKBest, chi2\n",
        "\n",
        "# To get diferent metric scores\n",
        "from sklearn.metrics import (\n",
        "    f1_score,\n",
        "    accuracy_score,\n",
        "    recall_score,\n",
        "    precision_score,\n",
        "    confusion_matrix,\n",
        "    roc_auc_score,\n",
        "    plot_confusion_matrix,\n",
        "    precision_recall_curve,\n",
        "    roc_curve,\n",
        "    make_scorer\n",
        "    )"
      ],
      "execution_count": 3,
      "outputs": []
    },
    {
      "cell_type": "markdown",
      "metadata": {
        "id": "5QmqHR8F2INS"
      },
      "source": [
        "LOADING DATA"
      ]
    },
    {
      "cell_type": "code",
      "metadata": {
        "id": "vgws9pIspYCj"
      },
      "source": [
        "train_data = pd.read_csv('/content/drive/MyDrive/renewable energy proj (1)/Train.csv')\n",
        "test_data = pd.read_csv('/content/drive/MyDrive/renewable energy proj (1)/Test.csv')"
      ],
      "execution_count": 4,
      "outputs": []
    },
    {
      "cell_type": "markdown",
      "metadata": {
        "id": "qi-3pvld2Ogp"
      },
      "source": [
        "EDA AND INSIGHTS"
      ]
    },
    {
      "cell_type": "code",
      "metadata": {
        "id": "YDcjvx3upuiH",
        "colab": {
          "base_uri": "https://localhost:8080/",
          "height": 270
        },
        "outputId": "94364b6f-3de9-4d75-96dd-a476917e42fc"
      },
      "source": [
        "train_data.head()\n",
        "#test_data.head()"
      ],
      "execution_count": 5,
      "outputs": [
        {
          "output_type": "execute_result",
          "data": {
            "text/html": [
              "\n",
              "  <div id=\"df-491ec936-d7e5-4b10-bc31-6891316a4253\">\n",
              "    <div class=\"colab-df-container\">\n",
              "      <div>\n",
              "<style scoped>\n",
              "    .dataframe tbody tr th:only-of-type {\n",
              "        vertical-align: middle;\n",
              "    }\n",
              "\n",
              "    .dataframe tbody tr th {\n",
              "        vertical-align: top;\n",
              "    }\n",
              "\n",
              "    .dataframe thead th {\n",
              "        text-align: right;\n",
              "    }\n",
              "</style>\n",
              "<table border=\"1\" class=\"dataframe\">\n",
              "  <thead>\n",
              "    <tr style=\"text-align: right;\">\n",
              "      <th></th>\n",
              "      <th>V1</th>\n",
              "      <th>V2</th>\n",
              "      <th>V3</th>\n",
              "      <th>V4</th>\n",
              "      <th>V5</th>\n",
              "      <th>V6</th>\n",
              "      <th>V7</th>\n",
              "      <th>V8</th>\n",
              "      <th>V9</th>\n",
              "      <th>V10</th>\n",
              "      <th>V11</th>\n",
              "      <th>V12</th>\n",
              "      <th>V13</th>\n",
              "      <th>V14</th>\n",
              "      <th>V15</th>\n",
              "      <th>V16</th>\n",
              "      <th>V17</th>\n",
              "      <th>V18</th>\n",
              "      <th>V19</th>\n",
              "      <th>V20</th>\n",
              "      <th>V21</th>\n",
              "      <th>V22</th>\n",
              "      <th>V23</th>\n",
              "      <th>V24</th>\n",
              "      <th>V25</th>\n",
              "      <th>V26</th>\n",
              "      <th>V27</th>\n",
              "      <th>V28</th>\n",
              "      <th>V29</th>\n",
              "      <th>V30</th>\n",
              "      <th>V31</th>\n",
              "      <th>V32</th>\n",
              "      <th>V33</th>\n",
              "      <th>V34</th>\n",
              "      <th>V35</th>\n",
              "      <th>V36</th>\n",
              "      <th>V37</th>\n",
              "      <th>V38</th>\n",
              "      <th>V39</th>\n",
              "      <th>V40</th>\n",
              "      <th>Target</th>\n",
              "    </tr>\n",
              "  </thead>\n",
              "  <tbody>\n",
              "    <tr>\n",
              "      <th>0</th>\n",
              "      <td>-4.464606</td>\n",
              "      <td>-4.679129</td>\n",
              "      <td>3.101546</td>\n",
              "      <td>0.506130</td>\n",
              "      <td>-0.221083</td>\n",
              "      <td>-2.032511</td>\n",
              "      <td>-2.910870</td>\n",
              "      <td>0.050714</td>\n",
              "      <td>-1.522351</td>\n",
              "      <td>3.761892</td>\n",
              "      <td>-5.714719</td>\n",
              "      <td>0.735893</td>\n",
              "      <td>0.981251</td>\n",
              "      <td>1.417884</td>\n",
              "      <td>-3.375815</td>\n",
              "      <td>-3.047303</td>\n",
              "      <td>0.306194</td>\n",
              "      <td>2.914097</td>\n",
              "      <td>2.269979</td>\n",
              "      <td>4.394876</td>\n",
              "      <td>-2.388299</td>\n",
              "      <td>0.646388</td>\n",
              "      <td>-1.190508</td>\n",
              "      <td>3.132986</td>\n",
              "      <td>0.665277</td>\n",
              "      <td>-2.510846</td>\n",
              "      <td>-0.036744</td>\n",
              "      <td>0.726218</td>\n",
              "      <td>-3.982187</td>\n",
              "      <td>-1.072638</td>\n",
              "      <td>1.667098</td>\n",
              "      <td>3.059700</td>\n",
              "      <td>-1.690440</td>\n",
              "      <td>2.846296</td>\n",
              "      <td>2.235198</td>\n",
              "      <td>6.667486</td>\n",
              "      <td>0.443809</td>\n",
              "      <td>-2.369169</td>\n",
              "      <td>2.950578</td>\n",
              "      <td>-3.480324</td>\n",
              "      <td>0</td>\n",
              "    </tr>\n",
              "    <tr>\n",
              "      <th>1</th>\n",
              "      <td>-2.909996</td>\n",
              "      <td>-2.568662</td>\n",
              "      <td>4.109032</td>\n",
              "      <td>1.316672</td>\n",
              "      <td>-1.620594</td>\n",
              "      <td>-3.827212</td>\n",
              "      <td>-1.616970</td>\n",
              "      <td>0.669006</td>\n",
              "      <td>0.387045</td>\n",
              "      <td>0.853814</td>\n",
              "      <td>-6.352826</td>\n",
              "      <td>4.271718</td>\n",
              "      <td>3.162020</td>\n",
              "      <td>0.257559</td>\n",
              "      <td>-3.547127</td>\n",
              "      <td>-4.284533</td>\n",
              "      <td>2.897271</td>\n",
              "      <td>1.508313</td>\n",
              "      <td>3.667963</td>\n",
              "      <td>7.123824</td>\n",
              "      <td>-4.095749</td>\n",
              "      <td>1.015082</td>\n",
              "      <td>-0.969790</td>\n",
              "      <td>-0.968207</td>\n",
              "      <td>2.063871</td>\n",
              "      <td>-1.646110</td>\n",
              "      <td>0.426956</td>\n",
              "      <td>0.734860</td>\n",
              "      <td>-4.470201</td>\n",
              "      <td>-2.771871</td>\n",
              "      <td>-2.504884</td>\n",
              "      <td>-3.782686</td>\n",
              "      <td>-6.823172</td>\n",
              "      <td>4.908562</td>\n",
              "      <td>0.481554</td>\n",
              "      <td>5.338051</td>\n",
              "      <td>2.381297</td>\n",
              "      <td>-3.127756</td>\n",
              "      <td>3.527309</td>\n",
              "      <td>-3.019581</td>\n",
              "      <td>0</td>\n",
              "    </tr>\n",
              "    <tr>\n",
              "      <th>2</th>\n",
              "      <td>4.283674</td>\n",
              "      <td>5.105381</td>\n",
              "      <td>6.092238</td>\n",
              "      <td>2.639922</td>\n",
              "      <td>-1.041357</td>\n",
              "      <td>1.308419</td>\n",
              "      <td>-1.876140</td>\n",
              "      <td>-9.582412</td>\n",
              "      <td>3.469504</td>\n",
              "      <td>0.763395</td>\n",
              "      <td>-2.573231</td>\n",
              "      <td>-3.349664</td>\n",
              "      <td>-0.594666</td>\n",
              "      <td>-5.246841</td>\n",
              "      <td>-4.309957</td>\n",
              "      <td>-16.232431</td>\n",
              "      <td>-0.999690</td>\n",
              "      <td>2.318208</td>\n",
              "      <td>5.941888</td>\n",
              "      <td>-3.857972</td>\n",
              "      <td>-11.599497</td>\n",
              "      <td>4.021252</td>\n",
              "      <td>-6.281194</td>\n",
              "      <td>4.633167</td>\n",
              "      <td>0.930157</td>\n",
              "      <td>6.280225</td>\n",
              "      <td>0.850654</td>\n",
              "      <td>0.268846</td>\n",
              "      <td>-2.206445</td>\n",
              "      <td>-1.328828</td>\n",
              "      <td>-2.398515</td>\n",
              "      <td>-3.097934</td>\n",
              "      <td>2.690334</td>\n",
              "      <td>-1.643048</td>\n",
              "      <td>7.566482</td>\n",
              "      <td>-3.197647</td>\n",
              "      <td>-3.495672</td>\n",
              "      <td>8.104779</td>\n",
              "      <td>0.562085</td>\n",
              "      <td>-4.227426</td>\n",
              "      <td>0</td>\n",
              "    </tr>\n",
              "    <tr>\n",
              "      <th>3</th>\n",
              "      <td>3.365912</td>\n",
              "      <td>3.653381</td>\n",
              "      <td>0.909671</td>\n",
              "      <td>-1.367528</td>\n",
              "      <td>0.332016</td>\n",
              "      <td>2.358938</td>\n",
              "      <td>0.732600</td>\n",
              "      <td>-4.332135</td>\n",
              "      <td>0.565695</td>\n",
              "      <td>-0.101080</td>\n",
              "      <td>1.914465</td>\n",
              "      <td>-0.951458</td>\n",
              "      <td>-1.255259</td>\n",
              "      <td>-2.706522</td>\n",
              "      <td>0.193223</td>\n",
              "      <td>-4.769379</td>\n",
              "      <td>-2.205319</td>\n",
              "      <td>0.907716</td>\n",
              "      <td>0.756894</td>\n",
              "      <td>-5.833678</td>\n",
              "      <td>-3.065122</td>\n",
              "      <td>1.596647</td>\n",
              "      <td>-1.757311</td>\n",
              "      <td>1.766444</td>\n",
              "      <td>-0.267098</td>\n",
              "      <td>3.625036</td>\n",
              "      <td>1.500346</td>\n",
              "      <td>-0.585712</td>\n",
              "      <td>0.783034</td>\n",
              "      <td>-0.201217</td>\n",
              "      <td>0.024883</td>\n",
              "      <td>-1.795474</td>\n",
              "      <td>3.032780</td>\n",
              "      <td>-2.467514</td>\n",
              "      <td>1.894599</td>\n",
              "      <td>-2.297780</td>\n",
              "      <td>-1.731048</td>\n",
              "      <td>5.908837</td>\n",
              "      <td>-0.386345</td>\n",
              "      <td>0.616242</td>\n",
              "      <td>0</td>\n",
              "    </tr>\n",
              "    <tr>\n",
              "      <th>4</th>\n",
              "      <td>-3.831843</td>\n",
              "      <td>-5.824444</td>\n",
              "      <td>0.634031</td>\n",
              "      <td>-2.418815</td>\n",
              "      <td>-1.773827</td>\n",
              "      <td>1.016824</td>\n",
              "      <td>-2.098941</td>\n",
              "      <td>-3.173204</td>\n",
              "      <td>-2.081860</td>\n",
              "      <td>5.392621</td>\n",
              "      <td>-0.770673</td>\n",
              "      <td>1.106718</td>\n",
              "      <td>1.144261</td>\n",
              "      <td>0.943301</td>\n",
              "      <td>-3.163804</td>\n",
              "      <td>-4.247825</td>\n",
              "      <td>-4.038909</td>\n",
              "      <td>3.688534</td>\n",
              "      <td>3.311196</td>\n",
              "      <td>1.059002</td>\n",
              "      <td>-2.143026</td>\n",
              "      <td>1.650120</td>\n",
              "      <td>-1.660592</td>\n",
              "      <td>1.679910</td>\n",
              "      <td>-0.450782</td>\n",
              "      <td>-4.550695</td>\n",
              "      <td>3.738779</td>\n",
              "      <td>1.134404</td>\n",
              "      <td>-2.033531</td>\n",
              "      <td>0.840839</td>\n",
              "      <td>-1.600395</td>\n",
              "      <td>-0.257101</td>\n",
              "      <td>0.803550</td>\n",
              "      <td>4.086219</td>\n",
              "      <td>2.292138</td>\n",
              "      <td>5.360850</td>\n",
              "      <td>0.351993</td>\n",
              "      <td>2.940021</td>\n",
              "      <td>3.839160</td>\n",
              "      <td>-4.309402</td>\n",
              "      <td>0</td>\n",
              "    </tr>\n",
              "  </tbody>\n",
              "</table>\n",
              "</div>\n",
              "      <button class=\"colab-df-convert\" onclick=\"convertToInteractive('df-491ec936-d7e5-4b10-bc31-6891316a4253')\"\n",
              "              title=\"Convert this dataframe to an interactive table.\"\n",
              "              style=\"display:none;\">\n",
              "        \n",
              "  <svg xmlns=\"http://www.w3.org/2000/svg\" height=\"24px\"viewBox=\"0 0 24 24\"\n",
              "       width=\"24px\">\n",
              "    <path d=\"M0 0h24v24H0V0z\" fill=\"none\"/>\n",
              "    <path d=\"M18.56 5.44l.94 2.06.94-2.06 2.06-.94-2.06-.94-.94-2.06-.94 2.06-2.06.94zm-11 1L8.5 8.5l.94-2.06 2.06-.94-2.06-.94L8.5 2.5l-.94 2.06-2.06.94zm10 10l.94 2.06.94-2.06 2.06-.94-2.06-.94-.94-2.06-.94 2.06-2.06.94z\"/><path d=\"M17.41 7.96l-1.37-1.37c-.4-.4-.92-.59-1.43-.59-.52 0-1.04.2-1.43.59L10.3 9.45l-7.72 7.72c-.78.78-.78 2.05 0 2.83L4 21.41c.39.39.9.59 1.41.59.51 0 1.02-.2 1.41-.59l7.78-7.78 2.81-2.81c.8-.78.8-2.07 0-2.86zM5.41 20L4 18.59l7.72-7.72 1.47 1.35L5.41 20z\"/>\n",
              "  </svg>\n",
              "      </button>\n",
              "      \n",
              "  <style>\n",
              "    .colab-df-container {\n",
              "      display:flex;\n",
              "      flex-wrap:wrap;\n",
              "      gap: 12px;\n",
              "    }\n",
              "\n",
              "    .colab-df-convert {\n",
              "      background-color: #E8F0FE;\n",
              "      border: none;\n",
              "      border-radius: 50%;\n",
              "      cursor: pointer;\n",
              "      display: none;\n",
              "      fill: #1967D2;\n",
              "      height: 32px;\n",
              "      padding: 0 0 0 0;\n",
              "      width: 32px;\n",
              "    }\n",
              "\n",
              "    .colab-df-convert:hover {\n",
              "      background-color: #E2EBFA;\n",
              "      box-shadow: 0px 1px 2px rgba(60, 64, 67, 0.3), 0px 1px 3px 1px rgba(60, 64, 67, 0.15);\n",
              "      fill: #174EA6;\n",
              "    }\n",
              "\n",
              "    [theme=dark] .colab-df-convert {\n",
              "      background-color: #3B4455;\n",
              "      fill: #D2E3FC;\n",
              "    }\n",
              "\n",
              "    [theme=dark] .colab-df-convert:hover {\n",
              "      background-color: #434B5C;\n",
              "      box-shadow: 0px 1px 3px 1px rgba(0, 0, 0, 0.15);\n",
              "      filter: drop-shadow(0px 1px 2px rgba(0, 0, 0, 0.3));\n",
              "      fill: #FFFFFF;\n",
              "    }\n",
              "  </style>\n",
              "\n",
              "      <script>\n",
              "        const buttonEl =\n",
              "          document.querySelector('#df-491ec936-d7e5-4b10-bc31-6891316a4253 button.colab-df-convert');\n",
              "        buttonEl.style.display =\n",
              "          google.colab.kernel.accessAllowed ? 'block' : 'none';\n",
              "\n",
              "        async function convertToInteractive(key) {\n",
              "          const element = document.querySelector('#df-491ec936-d7e5-4b10-bc31-6891316a4253');\n",
              "          const dataTable =\n",
              "            await google.colab.kernel.invokeFunction('convertToInteractive',\n",
              "                                                     [key], {});\n",
              "          if (!dataTable) return;\n",
              "\n",
              "          const docLinkHtml = 'Like what you see? Visit the ' +\n",
              "            '<a target=\"_blank\" href=https://colab.research.google.com/notebooks/data_table.ipynb>data table notebook</a>'\n",
              "            + ' to learn more about interactive tables.';\n",
              "          element.innerHTML = '';\n",
              "          dataTable['output_type'] = 'display_data';\n",
              "          await google.colab.output.renderOutput(dataTable, element);\n",
              "          const docLink = document.createElement('div');\n",
              "          docLink.innerHTML = docLinkHtml;\n",
              "          element.appendChild(docLink);\n",
              "        }\n",
              "      </script>\n",
              "    </div>\n",
              "  </div>\n",
              "  "
            ],
            "text/plain": [
              "         V1        V2        V3        V4  ...       V38       V39       V40  Target\n",
              "0 -4.464606 -4.679129  3.101546  0.506130  ... -2.369169  2.950578 -3.480324       0\n",
              "1 -2.909996 -2.568662  4.109032  1.316672  ... -3.127756  3.527309 -3.019581       0\n",
              "2  4.283674  5.105381  6.092238  2.639922  ...  8.104779  0.562085 -4.227426       0\n",
              "3  3.365912  3.653381  0.909671 -1.367528  ...  5.908837 -0.386345  0.616242       0\n",
              "4 -3.831843 -5.824444  0.634031 -2.418815  ...  2.940021  3.839160 -4.309402       0\n",
              "\n",
              "[5 rows x 41 columns]"
            ]
          },
          "metadata": {},
          "execution_count": 5
        }
      ]
    },
    {
      "cell_type": "code",
      "metadata": {
        "id": "KnCaUcoGp1CD",
        "colab": {
          "base_uri": "https://localhost:8080/"
        },
        "outputId": "690dcffd-3e7a-417f-9003-220363954127"
      },
      "source": [
        "train_data.info()\n",
        "#test_data.info()"
      ],
      "execution_count": 6,
      "outputs": [
        {
          "output_type": "stream",
          "name": "stdout",
          "text": [
            "<class 'pandas.core.frame.DataFrame'>\n",
            "RangeIndex: 40000 entries, 0 to 39999\n",
            "Data columns (total 41 columns):\n",
            " #   Column  Non-Null Count  Dtype  \n",
            "---  ------  --------------  -----  \n",
            " 0   V1      39954 non-null  float64\n",
            " 1   V2      39961 non-null  float64\n",
            " 2   V3      40000 non-null  float64\n",
            " 3   V4      40000 non-null  float64\n",
            " 4   V5      40000 non-null  float64\n",
            " 5   V6      40000 non-null  float64\n",
            " 6   V7      40000 non-null  float64\n",
            " 7   V8      40000 non-null  float64\n",
            " 8   V9      40000 non-null  float64\n",
            " 9   V10     40000 non-null  float64\n",
            " 10  V11     40000 non-null  float64\n",
            " 11  V12     40000 non-null  float64\n",
            " 12  V13     40000 non-null  float64\n",
            " 13  V14     40000 non-null  float64\n",
            " 14  V15     40000 non-null  float64\n",
            " 15  V16     40000 non-null  float64\n",
            " 16  V17     40000 non-null  float64\n",
            " 17  V18     40000 non-null  float64\n",
            " 18  V19     40000 non-null  float64\n",
            " 19  V20     40000 non-null  float64\n",
            " 20  V21     40000 non-null  float64\n",
            " 21  V22     40000 non-null  float64\n",
            " 22  V23     40000 non-null  float64\n",
            " 23  V24     40000 non-null  float64\n",
            " 24  V25     40000 non-null  float64\n",
            " 25  V26     40000 non-null  float64\n",
            " 26  V27     40000 non-null  float64\n",
            " 27  V28     40000 non-null  float64\n",
            " 28  V29     40000 non-null  float64\n",
            " 29  V30     40000 non-null  float64\n",
            " 30  V31     40000 non-null  float64\n",
            " 31  V32     40000 non-null  float64\n",
            " 32  V33     40000 non-null  float64\n",
            " 33  V34     40000 non-null  float64\n",
            " 34  V35     40000 non-null  float64\n",
            " 35  V36     40000 non-null  float64\n",
            " 36  V37     40000 non-null  float64\n",
            " 37  V38     40000 non-null  float64\n",
            " 38  V39     40000 non-null  float64\n",
            " 39  V40     40000 non-null  float64\n",
            " 40  Target  40000 non-null  int64  \n",
            "dtypes: float64(40), int64(1)\n",
            "memory usage: 12.5 MB\n"
          ]
        }
      ]
    },
    {
      "cell_type": "code",
      "metadata": {
        "id": "6olhx4mhqF9a",
        "colab": {
          "base_uri": "https://localhost:8080/",
          "height": 1000
        },
        "outputId": "1cae4a8d-f569-4208-8454-d20c547e504e"
      },
      "source": [
        "train_data.describe().T\n",
        "#test_data.describe().T"
      ],
      "execution_count": 7,
      "outputs": [
        {
          "output_type": "execute_result",
          "data": {
            "text/html": [
              "\n",
              "  <div id=\"df-a12e4a5c-71bc-4d3c-9389-5f85ce49e2d3\">\n",
              "    <div class=\"colab-df-container\">\n",
              "      <div>\n",
              "<style scoped>\n",
              "    .dataframe tbody tr th:only-of-type {\n",
              "        vertical-align: middle;\n",
              "    }\n",
              "\n",
              "    .dataframe tbody tr th {\n",
              "        vertical-align: top;\n",
              "    }\n",
              "\n",
              "    .dataframe thead th {\n",
              "        text-align: right;\n",
              "    }\n",
              "</style>\n",
              "<table border=\"1\" class=\"dataframe\">\n",
              "  <thead>\n",
              "    <tr style=\"text-align: right;\">\n",
              "      <th></th>\n",
              "      <th>count</th>\n",
              "      <th>mean</th>\n",
              "      <th>std</th>\n",
              "      <th>min</th>\n",
              "      <th>25%</th>\n",
              "      <th>50%</th>\n",
              "      <th>75%</th>\n",
              "      <th>max</th>\n",
              "    </tr>\n",
              "  </thead>\n",
              "  <tbody>\n",
              "    <tr>\n",
              "      <th>V1</th>\n",
              "      <td>39954.0</td>\n",
              "      <td>-0.288120</td>\n",
              "      <td>3.449072</td>\n",
              "      <td>-13.501880</td>\n",
              "      <td>-2.751460</td>\n",
              "      <td>-0.773518</td>\n",
              "      <td>1.836708</td>\n",
              "      <td>17.436981</td>\n",
              "    </tr>\n",
              "    <tr>\n",
              "      <th>V2</th>\n",
              "      <td>39961.0</td>\n",
              "      <td>0.442672</td>\n",
              "      <td>3.139431</td>\n",
              "      <td>-13.212051</td>\n",
              "      <td>-1.638355</td>\n",
              "      <td>0.463939</td>\n",
              "      <td>2.537508</td>\n",
              "      <td>13.089269</td>\n",
              "    </tr>\n",
              "    <tr>\n",
              "      <th>V3</th>\n",
              "      <td>40000.0</td>\n",
              "      <td>2.505514</td>\n",
              "      <td>3.406263</td>\n",
              "      <td>-11.469369</td>\n",
              "      <td>0.202682</td>\n",
              "      <td>2.265319</td>\n",
              "      <td>4.584920</td>\n",
              "      <td>18.366477</td>\n",
              "    </tr>\n",
              "    <tr>\n",
              "      <th>V4</th>\n",
              "      <td>40000.0</td>\n",
              "      <td>-0.066078</td>\n",
              "      <td>3.437330</td>\n",
              "      <td>-16.015417</td>\n",
              "      <td>-2.349574</td>\n",
              "      <td>-0.123691</td>\n",
              "      <td>2.148596</td>\n",
              "      <td>13.279712</td>\n",
              "    </tr>\n",
              "    <tr>\n",
              "      <th>V5</th>\n",
              "      <td>40000.0</td>\n",
              "      <td>-0.044574</td>\n",
              "      <td>2.107183</td>\n",
              "      <td>-8.612973</td>\n",
              "      <td>-1.507206</td>\n",
              "      <td>-0.096824</td>\n",
              "      <td>1.346224</td>\n",
              "      <td>9.403469</td>\n",
              "    </tr>\n",
              "    <tr>\n",
              "      <th>V6</th>\n",
              "      <td>40000.0</td>\n",
              "      <td>-1.000849</td>\n",
              "      <td>2.036756</td>\n",
              "      <td>-10.227147</td>\n",
              "      <td>-2.363446</td>\n",
              "      <td>-1.006635</td>\n",
              "      <td>0.373909</td>\n",
              "      <td>7.065470</td>\n",
              "    </tr>\n",
              "    <tr>\n",
              "      <th>V7</th>\n",
              "      <td>40000.0</td>\n",
              "      <td>-0.892793</td>\n",
              "      <td>1.756510</td>\n",
              "      <td>-8.205806</td>\n",
              "      <td>-2.036913</td>\n",
              "      <td>-0.934738</td>\n",
              "      <td>0.206820</td>\n",
              "      <td>8.006091</td>\n",
              "    </tr>\n",
              "    <tr>\n",
              "      <th>V8</th>\n",
              "      <td>40000.0</td>\n",
              "      <td>-0.563123</td>\n",
              "      <td>3.298916</td>\n",
              "      <td>-15.657561</td>\n",
              "      <td>-2.660415</td>\n",
              "      <td>-0.384188</td>\n",
              "      <td>1.714383</td>\n",
              "      <td>11.679495</td>\n",
              "    </tr>\n",
              "    <tr>\n",
              "      <th>V9</th>\n",
              "      <td>40000.0</td>\n",
              "      <td>-0.007739</td>\n",
              "      <td>2.161833</td>\n",
              "      <td>-8.596313</td>\n",
              "      <td>-1.493676</td>\n",
              "      <td>-0.052085</td>\n",
              "      <td>1.425713</td>\n",
              "      <td>8.507138</td>\n",
              "    </tr>\n",
              "    <tr>\n",
              "      <th>V10</th>\n",
              "      <td>40000.0</td>\n",
              "      <td>-0.001848</td>\n",
              "      <td>2.183034</td>\n",
              "      <td>-11.000790</td>\n",
              "      <td>-1.390549</td>\n",
              "      <td>0.105779</td>\n",
              "      <td>1.486105</td>\n",
              "      <td>8.108472</td>\n",
              "    </tr>\n",
              "    <tr>\n",
              "      <th>V11</th>\n",
              "      <td>40000.0</td>\n",
              "      <td>-1.917794</td>\n",
              "      <td>3.116426</td>\n",
              "      <td>-14.832058</td>\n",
              "      <td>-3.940969</td>\n",
              "      <td>-1.941726</td>\n",
              "      <td>0.089444</td>\n",
              "      <td>13.851834</td>\n",
              "    </tr>\n",
              "    <tr>\n",
              "      <th>V12</th>\n",
              "      <td>40000.0</td>\n",
              "      <td>1.578095</td>\n",
              "      <td>2.914613</td>\n",
              "      <td>-13.619304</td>\n",
              "      <td>-0.431373</td>\n",
              "      <td>1.485367</td>\n",
              "      <td>3.540787</td>\n",
              "      <td>15.753586</td>\n",
              "    </tr>\n",
              "    <tr>\n",
              "      <th>V13</th>\n",
              "      <td>40000.0</td>\n",
              "      <td>1.591309</td>\n",
              "      <td>2.865222</td>\n",
              "      <td>-13.830128</td>\n",
              "      <td>-0.208522</td>\n",
              "      <td>1.653836</td>\n",
              "      <td>3.476336</td>\n",
              "      <td>15.419616</td>\n",
              "    </tr>\n",
              "    <tr>\n",
              "      <th>V14</th>\n",
              "      <td>40000.0</td>\n",
              "      <td>-0.946620</td>\n",
              "      <td>1.787759</td>\n",
              "      <td>-8.309443</td>\n",
              "      <td>-2.164513</td>\n",
              "      <td>-0.957444</td>\n",
              "      <td>0.265874</td>\n",
              "      <td>6.213289</td>\n",
              "    </tr>\n",
              "    <tr>\n",
              "      <th>V15</th>\n",
              "      <td>40000.0</td>\n",
              "      <td>-2.435720</td>\n",
              "      <td>3.341244</td>\n",
              "      <td>-17.201998</td>\n",
              "      <td>-4.451365</td>\n",
              "      <td>-2.398608</td>\n",
              "      <td>-0.381757</td>\n",
              "      <td>12.874679</td>\n",
              "    </tr>\n",
              "    <tr>\n",
              "      <th>V16</th>\n",
              "      <td>40000.0</td>\n",
              "      <td>-2.943168</td>\n",
              "      <td>4.211646</td>\n",
              "      <td>-21.918711</td>\n",
              "      <td>-5.631812</td>\n",
              "      <td>-2.718600</td>\n",
              "      <td>-0.112947</td>\n",
              "      <td>13.583212</td>\n",
              "    </tr>\n",
              "    <tr>\n",
              "      <th>V17</th>\n",
              "      <td>40000.0</td>\n",
              "      <td>-0.142794</td>\n",
              "      <td>3.344332</td>\n",
              "      <td>-17.633947</td>\n",
              "      <td>-2.227048</td>\n",
              "      <td>-0.027895</td>\n",
              "      <td>2.071801</td>\n",
              "      <td>17.404510</td>\n",
              "    </tr>\n",
              "    <tr>\n",
              "      <th>V18</th>\n",
              "      <td>40000.0</td>\n",
              "      <td>1.188949</td>\n",
              "      <td>2.586164</td>\n",
              "      <td>-11.643994</td>\n",
              "      <td>-0.402848</td>\n",
              "      <td>0.867433</td>\n",
              "      <td>2.564239</td>\n",
              "      <td>13.179863</td>\n",
              "    </tr>\n",
              "    <tr>\n",
              "      <th>V19</th>\n",
              "      <td>40000.0</td>\n",
              "      <td>1.181333</td>\n",
              "      <td>3.394979</td>\n",
              "      <td>-13.491784</td>\n",
              "      <td>-1.050903</td>\n",
              "      <td>1.278402</td>\n",
              "      <td>3.497277</td>\n",
              "      <td>16.059004</td>\n",
              "    </tr>\n",
              "    <tr>\n",
              "      <th>V20</th>\n",
              "      <td>40000.0</td>\n",
              "      <td>0.027201</td>\n",
              "      <td>3.674985</td>\n",
              "      <td>-13.922659</td>\n",
              "      <td>-2.433811</td>\n",
              "      <td>0.030136</td>\n",
              "      <td>2.513245</td>\n",
              "      <td>16.052339</td>\n",
              "    </tr>\n",
              "    <tr>\n",
              "      <th>V21</th>\n",
              "      <td>40000.0</td>\n",
              "      <td>-3.621359</td>\n",
              "      <td>3.556979</td>\n",
              "      <td>-19.436404</td>\n",
              "      <td>-5.920847</td>\n",
              "      <td>-3.559327</td>\n",
              "      <td>-1.284178</td>\n",
              "      <td>13.840473</td>\n",
              "    </tr>\n",
              "    <tr>\n",
              "      <th>V22</th>\n",
              "      <td>40000.0</td>\n",
              "      <td>0.943242</td>\n",
              "      <td>1.645538</td>\n",
              "      <td>-10.122095</td>\n",
              "      <td>-0.112147</td>\n",
              "      <td>0.962802</td>\n",
              "      <td>2.018031</td>\n",
              "      <td>7.409856</td>\n",
              "    </tr>\n",
              "    <tr>\n",
              "      <th>V23</th>\n",
              "      <td>40000.0</td>\n",
              "      <td>-0.387617</td>\n",
              "      <td>4.052147</td>\n",
              "      <td>-16.187510</td>\n",
              "      <td>-3.118868</td>\n",
              "      <td>-0.275339</td>\n",
              "      <td>2.438047</td>\n",
              "      <td>15.080172</td>\n",
              "    </tr>\n",
              "    <tr>\n",
              "      <th>V24</th>\n",
              "      <td>40000.0</td>\n",
              "      <td>1.142220</td>\n",
              "      <td>3.912820</td>\n",
              "      <td>-18.487811</td>\n",
              "      <td>-1.483210</td>\n",
              "      <td>0.963586</td>\n",
              "      <td>3.563055</td>\n",
              "      <td>19.769376</td>\n",
              "    </tr>\n",
              "    <tr>\n",
              "      <th>V25</th>\n",
              "      <td>40000.0</td>\n",
              "      <td>-0.003019</td>\n",
              "      <td>2.024691</td>\n",
              "      <td>-8.228266</td>\n",
              "      <td>-1.373400</td>\n",
              "      <td>0.021100</td>\n",
              "      <td>1.399816</td>\n",
              "      <td>8.223389</td>\n",
              "    </tr>\n",
              "    <tr>\n",
              "      <th>V26</th>\n",
              "      <td>40000.0</td>\n",
              "      <td>1.895717</td>\n",
              "      <td>3.421454</td>\n",
              "      <td>-12.587902</td>\n",
              "      <td>-0.319231</td>\n",
              "      <td>1.963826</td>\n",
              "      <td>4.163146</td>\n",
              "      <td>16.836410</td>\n",
              "    </tr>\n",
              "    <tr>\n",
              "      <th>V27</th>\n",
              "      <td>40000.0</td>\n",
              "      <td>-0.616838</td>\n",
              "      <td>4.392161</td>\n",
              "      <td>-14.904939</td>\n",
              "      <td>-3.692075</td>\n",
              "      <td>-0.909640</td>\n",
              "      <td>2.200608</td>\n",
              "      <td>21.594552</td>\n",
              "    </tr>\n",
              "    <tr>\n",
              "      <th>V28</th>\n",
              "      <td>40000.0</td>\n",
              "      <td>-0.888121</td>\n",
              "      <td>1.924947</td>\n",
              "      <td>-9.685082</td>\n",
              "      <td>-2.192763</td>\n",
              "      <td>-0.904757</td>\n",
              "      <td>0.376856</td>\n",
              "      <td>6.906865</td>\n",
              "    </tr>\n",
              "    <tr>\n",
              "      <th>V29</th>\n",
              "      <td>40000.0</td>\n",
              "      <td>-1.005327</td>\n",
              "      <td>2.676299</td>\n",
              "      <td>-12.579469</td>\n",
              "      <td>-2.799008</td>\n",
              "      <td>-1.206027</td>\n",
              "      <td>0.604473</td>\n",
              "      <td>11.852476</td>\n",
              "    </tr>\n",
              "    <tr>\n",
              "      <th>V30</th>\n",
              "      <td>40000.0</td>\n",
              "      <td>-0.032664</td>\n",
              "      <td>3.031009</td>\n",
              "      <td>-14.796047</td>\n",
              "      <td>-1.908202</td>\n",
              "      <td>0.184613</td>\n",
              "      <td>2.040131</td>\n",
              "      <td>13.190889</td>\n",
              "    </tr>\n",
              "    <tr>\n",
              "      <th>V31</th>\n",
              "      <td>40000.0</td>\n",
              "      <td>0.505885</td>\n",
              "      <td>3.482735</td>\n",
              "      <td>-19.376732</td>\n",
              "      <td>-1.798975</td>\n",
              "      <td>0.491352</td>\n",
              "      <td>2.777519</td>\n",
              "      <td>17.255090</td>\n",
              "    </tr>\n",
              "    <tr>\n",
              "      <th>V32</th>\n",
              "      <td>40000.0</td>\n",
              "      <td>0.326831</td>\n",
              "      <td>5.499369</td>\n",
              "      <td>-23.200866</td>\n",
              "      <td>-3.392115</td>\n",
              "      <td>0.056243</td>\n",
              "      <td>3.789241</td>\n",
              "      <td>24.847833</td>\n",
              "    </tr>\n",
              "    <tr>\n",
              "      <th>V33</th>\n",
              "      <td>40000.0</td>\n",
              "      <td>0.056542</td>\n",
              "      <td>3.574219</td>\n",
              "      <td>-17.454014</td>\n",
              "      <td>-2.237550</td>\n",
              "      <td>-0.049729</td>\n",
              "      <td>2.255985</td>\n",
              "      <td>16.692486</td>\n",
              "    </tr>\n",
              "    <tr>\n",
              "      <th>V34</th>\n",
              "      <td>40000.0</td>\n",
              "      <td>-0.464127</td>\n",
              "      <td>3.185712</td>\n",
              "      <td>-17.985094</td>\n",
              "      <td>-2.127757</td>\n",
              "      <td>-0.250842</td>\n",
              "      <td>1.432885</td>\n",
              "      <td>14.358213</td>\n",
              "    </tr>\n",
              "    <tr>\n",
              "      <th>V35</th>\n",
              "      <td>40000.0</td>\n",
              "      <td>2.234861</td>\n",
              "      <td>2.924185</td>\n",
              "      <td>-15.349803</td>\n",
              "      <td>0.332081</td>\n",
              "      <td>2.110125</td>\n",
              "      <td>4.044659</td>\n",
              "      <td>16.804859</td>\n",
              "    </tr>\n",
              "    <tr>\n",
              "      <th>V36</th>\n",
              "      <td>40000.0</td>\n",
              "      <td>1.530020</td>\n",
              "      <td>3.819754</td>\n",
              "      <td>-17.478949</td>\n",
              "      <td>-0.937119</td>\n",
              "      <td>1.571511</td>\n",
              "      <td>3.996721</td>\n",
              "      <td>19.329576</td>\n",
              "    </tr>\n",
              "    <tr>\n",
              "      <th>V37</th>\n",
              "      <td>40000.0</td>\n",
              "      <td>-0.000498</td>\n",
              "      <td>1.778273</td>\n",
              "      <td>-7.639952</td>\n",
              "      <td>-1.265717</td>\n",
              "      <td>-0.132620</td>\n",
              "      <td>1.160828</td>\n",
              "      <td>7.803278</td>\n",
              "    </tr>\n",
              "    <tr>\n",
              "      <th>V38</th>\n",
              "      <td>40000.0</td>\n",
              "      <td>-0.351199</td>\n",
              "      <td>3.964186</td>\n",
              "      <td>-17.375002</td>\n",
              "      <td>-3.016805</td>\n",
              "      <td>-0.318724</td>\n",
              "      <td>2.291342</td>\n",
              "      <td>15.964053</td>\n",
              "    </tr>\n",
              "    <tr>\n",
              "      <th>V39</th>\n",
              "      <td>40000.0</td>\n",
              "      <td>0.900035</td>\n",
              "      <td>1.751022</td>\n",
              "      <td>-7.135788</td>\n",
              "      <td>-0.261578</td>\n",
              "      <td>0.921321</td>\n",
              "      <td>2.069016</td>\n",
              "      <td>7.997832</td>\n",
              "    </tr>\n",
              "    <tr>\n",
              "      <th>V40</th>\n",
              "      <td>40000.0</td>\n",
              "      <td>-0.897166</td>\n",
              "      <td>2.997750</td>\n",
              "      <td>-11.930259</td>\n",
              "      <td>-2.949590</td>\n",
              "      <td>-0.949269</td>\n",
              "      <td>1.092178</td>\n",
              "      <td>10.654265</td>\n",
              "    </tr>\n",
              "    <tr>\n",
              "      <th>Target</th>\n",
              "      <td>40000.0</td>\n",
              "      <td>0.054675</td>\n",
              "      <td>0.227348</td>\n",
              "      <td>0.000000</td>\n",
              "      <td>0.000000</td>\n",
              "      <td>0.000000</td>\n",
              "      <td>0.000000</td>\n",
              "      <td>1.000000</td>\n",
              "    </tr>\n",
              "  </tbody>\n",
              "</table>\n",
              "</div>\n",
              "      <button class=\"colab-df-convert\" onclick=\"convertToInteractive('df-a12e4a5c-71bc-4d3c-9389-5f85ce49e2d3')\"\n",
              "              title=\"Convert this dataframe to an interactive table.\"\n",
              "              style=\"display:none;\">\n",
              "        \n",
              "  <svg xmlns=\"http://www.w3.org/2000/svg\" height=\"24px\"viewBox=\"0 0 24 24\"\n",
              "       width=\"24px\">\n",
              "    <path d=\"M0 0h24v24H0V0z\" fill=\"none\"/>\n",
              "    <path d=\"M18.56 5.44l.94 2.06.94-2.06 2.06-.94-2.06-.94-.94-2.06-.94 2.06-2.06.94zm-11 1L8.5 8.5l.94-2.06 2.06-.94-2.06-.94L8.5 2.5l-.94 2.06-2.06.94zm10 10l.94 2.06.94-2.06 2.06-.94-2.06-.94-.94-2.06-.94 2.06-2.06.94z\"/><path d=\"M17.41 7.96l-1.37-1.37c-.4-.4-.92-.59-1.43-.59-.52 0-1.04.2-1.43.59L10.3 9.45l-7.72 7.72c-.78.78-.78 2.05 0 2.83L4 21.41c.39.39.9.59 1.41.59.51 0 1.02-.2 1.41-.59l7.78-7.78 2.81-2.81c.8-.78.8-2.07 0-2.86zM5.41 20L4 18.59l7.72-7.72 1.47 1.35L5.41 20z\"/>\n",
              "  </svg>\n",
              "      </button>\n",
              "      \n",
              "  <style>\n",
              "    .colab-df-container {\n",
              "      display:flex;\n",
              "      flex-wrap:wrap;\n",
              "      gap: 12px;\n",
              "    }\n",
              "\n",
              "    .colab-df-convert {\n",
              "      background-color: #E8F0FE;\n",
              "      border: none;\n",
              "      border-radius: 50%;\n",
              "      cursor: pointer;\n",
              "      display: none;\n",
              "      fill: #1967D2;\n",
              "      height: 32px;\n",
              "      padding: 0 0 0 0;\n",
              "      width: 32px;\n",
              "    }\n",
              "\n",
              "    .colab-df-convert:hover {\n",
              "      background-color: #E2EBFA;\n",
              "      box-shadow: 0px 1px 2px rgba(60, 64, 67, 0.3), 0px 1px 3px 1px rgba(60, 64, 67, 0.15);\n",
              "      fill: #174EA6;\n",
              "    }\n",
              "\n",
              "    [theme=dark] .colab-df-convert {\n",
              "      background-color: #3B4455;\n",
              "      fill: #D2E3FC;\n",
              "    }\n",
              "\n",
              "    [theme=dark] .colab-df-convert:hover {\n",
              "      background-color: #434B5C;\n",
              "      box-shadow: 0px 1px 3px 1px rgba(0, 0, 0, 0.15);\n",
              "      filter: drop-shadow(0px 1px 2px rgba(0, 0, 0, 0.3));\n",
              "      fill: #FFFFFF;\n",
              "    }\n",
              "  </style>\n",
              "\n",
              "      <script>\n",
              "        const buttonEl =\n",
              "          document.querySelector('#df-a12e4a5c-71bc-4d3c-9389-5f85ce49e2d3 button.colab-df-convert');\n",
              "        buttonEl.style.display =\n",
              "          google.colab.kernel.accessAllowed ? 'block' : 'none';\n",
              "\n",
              "        async function convertToInteractive(key) {\n",
              "          const element = document.querySelector('#df-a12e4a5c-71bc-4d3c-9389-5f85ce49e2d3');\n",
              "          const dataTable =\n",
              "            await google.colab.kernel.invokeFunction('convertToInteractive',\n",
              "                                                     [key], {});\n",
              "          if (!dataTable) return;\n",
              "\n",
              "          const docLinkHtml = 'Like what you see? Visit the ' +\n",
              "            '<a target=\"_blank\" href=https://colab.research.google.com/notebooks/data_table.ipynb>data table notebook</a>'\n",
              "            + ' to learn more about interactive tables.';\n",
              "          element.innerHTML = '';\n",
              "          dataTable['output_type'] = 'display_data';\n",
              "          await google.colab.output.renderOutput(dataTable, element);\n",
              "          const docLink = document.createElement('div');\n",
              "          docLink.innerHTML = docLinkHtml;\n",
              "          element.appendChild(docLink);\n",
              "        }\n",
              "      </script>\n",
              "    </div>\n",
              "  </div>\n",
              "  "
            ],
            "text/plain": [
              "          count      mean       std  ...       50%       75%        max\n",
              "V1      39954.0 -0.288120  3.449072  ... -0.773518  1.836708  17.436981\n",
              "V2      39961.0  0.442672  3.139431  ...  0.463939  2.537508  13.089269\n",
              "V3      40000.0  2.505514  3.406263  ...  2.265319  4.584920  18.366477\n",
              "V4      40000.0 -0.066078  3.437330  ... -0.123691  2.148596  13.279712\n",
              "V5      40000.0 -0.044574  2.107183  ... -0.096824  1.346224   9.403469\n",
              "V6      40000.0 -1.000849  2.036756  ... -1.006635  0.373909   7.065470\n",
              "V7      40000.0 -0.892793  1.756510  ... -0.934738  0.206820   8.006091\n",
              "V8      40000.0 -0.563123  3.298916  ... -0.384188  1.714383  11.679495\n",
              "V9      40000.0 -0.007739  2.161833  ... -0.052085  1.425713   8.507138\n",
              "V10     40000.0 -0.001848  2.183034  ...  0.105779  1.486105   8.108472\n",
              "V11     40000.0 -1.917794  3.116426  ... -1.941726  0.089444  13.851834\n",
              "V12     40000.0  1.578095  2.914613  ...  1.485367  3.540787  15.753586\n",
              "V13     40000.0  1.591309  2.865222  ...  1.653836  3.476336  15.419616\n",
              "V14     40000.0 -0.946620  1.787759  ... -0.957444  0.265874   6.213289\n",
              "V15     40000.0 -2.435720  3.341244  ... -2.398608 -0.381757  12.874679\n",
              "V16     40000.0 -2.943168  4.211646  ... -2.718600 -0.112947  13.583212\n",
              "V17     40000.0 -0.142794  3.344332  ... -0.027895  2.071801  17.404510\n",
              "V18     40000.0  1.188949  2.586164  ...  0.867433  2.564239  13.179863\n",
              "V19     40000.0  1.181333  3.394979  ...  1.278402  3.497277  16.059004\n",
              "V20     40000.0  0.027201  3.674985  ...  0.030136  2.513245  16.052339\n",
              "V21     40000.0 -3.621359  3.556979  ... -3.559327 -1.284178  13.840473\n",
              "V22     40000.0  0.943242  1.645538  ...  0.962802  2.018031   7.409856\n",
              "V23     40000.0 -0.387617  4.052147  ... -0.275339  2.438047  15.080172\n",
              "V24     40000.0  1.142220  3.912820  ...  0.963586  3.563055  19.769376\n",
              "V25     40000.0 -0.003019  2.024691  ...  0.021100  1.399816   8.223389\n",
              "V26     40000.0  1.895717  3.421454  ...  1.963826  4.163146  16.836410\n",
              "V27     40000.0 -0.616838  4.392161  ... -0.909640  2.200608  21.594552\n",
              "V28     40000.0 -0.888121  1.924947  ... -0.904757  0.376856   6.906865\n",
              "V29     40000.0 -1.005327  2.676299  ... -1.206027  0.604473  11.852476\n",
              "V30     40000.0 -0.032664  3.031009  ...  0.184613  2.040131  13.190889\n",
              "V31     40000.0  0.505885  3.482735  ...  0.491352  2.777519  17.255090\n",
              "V32     40000.0  0.326831  5.499369  ...  0.056243  3.789241  24.847833\n",
              "V33     40000.0  0.056542  3.574219  ... -0.049729  2.255985  16.692486\n",
              "V34     40000.0 -0.464127  3.185712  ... -0.250842  1.432885  14.358213\n",
              "V35     40000.0  2.234861  2.924185  ...  2.110125  4.044659  16.804859\n",
              "V36     40000.0  1.530020  3.819754  ...  1.571511  3.996721  19.329576\n",
              "V37     40000.0 -0.000498  1.778273  ... -0.132620  1.160828   7.803278\n",
              "V38     40000.0 -0.351199  3.964186  ... -0.318724  2.291342  15.964053\n",
              "V39     40000.0  0.900035  1.751022  ...  0.921321  2.069016   7.997832\n",
              "V40     40000.0 -0.897166  2.997750  ... -0.949269  1.092178  10.654265\n",
              "Target  40000.0  0.054675  0.227348  ...  0.000000  0.000000   1.000000\n",
              "\n",
              "[41 rows x 8 columns]"
            ]
          },
          "metadata": {},
          "execution_count": 7
        }
      ]
    },
    {
      "cell_type": "code",
      "metadata": {
        "id": "XQZzKzZhqd86",
        "colab": {
          "base_uri": "https://localhost:8080/"
        },
        "outputId": "ff68c1cb-a6ae-4854-fb1a-1f976854f0fe"
      },
      "source": [
        "#checking for data duplicates\n",
        "train_data.duplicated().sum()\n",
        "#test_data.duplicated().sum()\n"
      ],
      "execution_count": 8,
      "outputs": [
        {
          "output_type": "execute_result",
          "data": {
            "text/plain": [
              "0"
            ]
          },
          "metadata": {},
          "execution_count": 8
        }
      ]
    },
    {
      "cell_type": "code",
      "metadata": {
        "id": "G4ckxwk8qt1p",
        "colab": {
          "base_uri": "https://localhost:8080/"
        },
        "outputId": "ab7c276c-9969-4a65-b559-3bb042336ad6"
      },
      "source": [
        "#checking for empty data points\n",
        "train_data.isnull().sum().head()\n",
        "#test_data.isnull().sum()"
      ],
      "execution_count": 9,
      "outputs": [
        {
          "output_type": "execute_result",
          "data": {
            "text/plain": [
              "V1    46\n",
              "V2    39\n",
              "V3     0\n",
              "V4     0\n",
              "V5     0\n",
              "dtype: int64"
            ]
          },
          "metadata": {},
          "execution_count": 9
        }
      ]
    },
    {
      "cell_type": "code",
      "metadata": {
        "id": "XKPr4LNrq8Mt"
      },
      "source": [
        "#importing major visualization libraries\n",
        "import matplotlib.pyplot as plt\n",
        "import matplotlib_inline\n",
        "import seaborn as sns"
      ],
      "execution_count": 10,
      "outputs": []
    },
    {
      "cell_type": "code",
      "metadata": {
        "id": "VXrjeU1JrHqh",
        "colab": {
          "base_uri": "https://localhost:8080/",
          "height": 515
        },
        "outputId": "91545fbc-97c0-4597-fe01-97c1bb960ccb"
      },
      "source": [
        "#visualizing the target variable\n",
        "plt.figure(figsize=(10,8))\n",
        "sns.countplot(x='Target', data=train_data)"
      ],
      "execution_count": 11,
      "outputs": [
        {
          "output_type": "execute_result",
          "data": {
            "text/plain": [
              "<matplotlib.axes._subplots.AxesSubplot at 0x7f69a17846d0>"
            ]
          },
          "metadata": {},
          "execution_count": 11
        },
        {
          "output_type": "display_data",
          "data": {
            "image/png": "[encoded data removed]",
            "text/plain": [
              "<Figure size 720x576 with 1 Axes>"
            ]
          },
          "metadata": {
            "needs_background": "light"
          }
        }
      ]
    },
    {
      "cell_type": "code",
      "metadata": {
        "id": "0vFk4eUTrOtq",
        "colab": {
          "base_uri": "https://localhost:8080/"
        },
        "outputId": "0c054264-9995-4410-f6b6-793d1b4f5c8d"
      },
      "source": [
        "print('No Failure', round(train_data['Target'].value_counts()[0]/len(train_data) * 100,2), '% of the dataset')\n",
        "print('Failure', round(train_data['Target'].value_counts()[1]/len(train_data) * 100,2), '% of the dataset')"
      ],
      "execution_count": 12,
      "outputs": [
        {
          "output_type": "stream",
          "name": "stdout",
          "text": [
            "No Failure 94.53 % of the dataset\n",
            "Failure 5.47 % of the dataset\n"
          ]
        }
      ]
    },
    {
      "cell_type": "markdown",
      "metadata": {
        "id": "KB5uOv-z3PBk"
      },
      "source": [
        "**Observations**\n",
        "- from visualizing the target variable, we see that we have an imbalanced data set,  thus we will have to figure out ways to implement to balance the set, so as to obtain valuable results from our classification models\n"
      ]
    },
    {
      "cell_type": "markdown",
      "metadata": {
        "id": "_87Ts3Dq4Do7"
      },
      "source": [
        "DATA PREPROCESSING"
      ]
    },
    {
      "cell_type": "code",
      "metadata": {
        "id": "nRaolFKrrO03"
      },
      "source": [
        "#Filling of missing data inputs with the feature mean\n",
        "train_data['V1'] = train_data['V1'].fillna(value=-0.288120)\n",
        "test_data['V1'] = test_data['V1'].fillna(value=-0.259840)\n",
        "train_data['V2'] = train_data['V2'].fillna(value=0.442672\t)\n",
        "test_data['V2'] = test_data['V2'].fillna(value=0.416733\t)\n"
      ],
      "execution_count": 13,
      "outputs": []
    },
    {
      "cell_type": "code",
      "metadata": {
        "id": "q-nnBPowrPBy"
      },
      "source": [
        "#seperating the data feature from the target label, to allow for easier analysisi and model building\n",
        "x = train_data.drop(columns=['Target'], axis=1)\n",
        "y = train_data['Target']\n",
        "test_data = test_data.drop(columns=['Target'])"
      ],
      "execution_count": 14,
      "outputs": []
    },
    {
      "cell_type": "code",
      "metadata": {
        "id": "ac07AxsNL492",
        "colab": {
          "base_uri": "https://localhost:8080/",
          "height": 457
        },
        "outputId": "d297f8b6-dadb-459c-fe81-b12fee856a65"
      },
      "source": [
        "#plotting a feature importance chart\n",
        "from sklearn.ensemble import RandomForestClassifier\n",
        "scaler = MinMaxScaler()\n",
        "df_scaled = scaler.fit_transform(x,y)\n",
        "\n",
        "model = RandomForestClassifier()\n",
        "# fit the model\n",
        "model.fit(df_scaled, y)\n",
        "feature_names = list(x.columns)\n",
        "importances = model.feature_importances_\n",
        "indices = np.argsort(importances)\n",
        "\n",
        "plt.figure(figsize=(10, 7))\n",
        "plt.title(\"Feature Importances\")\n",
        "plt.barh(range(len(indices)), importances[indices], color='lightgreen', align=\"center\")\n",
        "plt.yticks(range(len(indices)), [feature_names[i] for i in indices])\n",
        "plt.xlabel(\"Relative Importance\")\n",
        "plt.show()"
      ],
      "execution_count": 15,
      "outputs": [
        {
          "output_type": "display_data",
          "data": {
            "image/png": "[encoded data removed]",
            "text/plain": [
              "<Figure size 720x504 with 1 Axes>"
            ]
          },
          "metadata": {
            "needs_background": "light"
          }
        }
      ]
    },
    {
      "cell_type": "code",
      "metadata": {
        "id": "FX_N1dvnPDVb",
        "colab": {
          "base_uri": "https://localhost:8080/",
          "height": 387
        },
        "outputId": "6b51e08f-63fb-49cb-9dca-d5cdc091741b"
      },
      "source": [
        "sns.displot(x='V18',bins=30,data=x)"
      ],
      "execution_count": 16,
      "outputs": [
        {
          "output_type": "execute_result",
          "data": {
            "text/plain": [
              "<seaborn.axisgrid.FacetGrid at 0x7f69a1bad710>"
            ]
          },
          "metadata": {},
          "execution_count": 16
        },
        {
          "output_type": "display_data",
          "data": {
            "image/png": "[encoded data removed]",
            "text/plain": [
              "<Figure size 360x360 with 1 Axes>"
            ]
          },
          "metadata": {
            "needs_background": "light"
          }
        }
      ]
    },
    {
      "cell_type": "markdown",
      "metadata": {
        "id": "FifSH8xSRlN4"
      },
      "source": [
        "*** observation**\n",
        "V18 feature seems to be the most important feature in determing generator failure, quite an interesting finding."
      ]
    },
    {
      "cell_type": "markdown",
      "metadata": {
        "id": "spl9hbgz4yKM"
      },
      "source": [
        "### MODEL BUILDING \n",
        "** we will be building six(6) classifier models, namely;**\n",
        "- Random Foest Ensemble,\n",
        "- GradientBoost classifier"
      ]
    },
    {
      "cell_type": "markdown",
      "metadata": {
        "id": "B3BVIlyP6fFc"
      },
      "source": [
        "First we import the pipeline helper package using pip install command, and we begine to import the libraires needed to build our different classifiers"
      ]
    },
    {
      "cell_type": "code",
      "metadata": {
        "id": "T9lKCw64tA0h",
        "colab": {
          "base_uri": "https://localhost:8080/"
        },
        "outputId": "d4decf0d-4e48-46b5-ad76-d56beb54cb60"
      },
      "source": [
        "pip install pipelinehelper"
      ],
      "execution_count": 17,
      "outputs": [
        {
          "output_type": "stream",
          "name": "stdout",
          "text": [
            "Collecting pipelinehelper\n",
            "  Downloading pipelinehelper-0.7.8-py3-none-any.whl (15 kB)\n",
            "Requirement already satisfied: sklearn in /usr/local/lib/python3.7/dist-packages (from pipelinehelper) (0.0)\n",
            "Requirement already satisfied: scikit-learn in /usr/local/lib/python3.7/dist-packages (from sklearn->pipelinehelper) (1.0.1)\n",
            "Requirement already satisfied: scipy>=1.1.0 in /usr/local/lib/python3.7/dist-packages (from scikit-learn->sklearn->pipelinehelper) (1.4.1)\n",
            "Requirement already satisfied: joblib>=0.11 in /usr/local/lib/python3.7/dist-packages (from scikit-learn->sklearn->pipelinehelper) (1.1.0)\n",
            "Requirement already satisfied: numpy>=1.14.6 in /usr/local/lib/python3.7/dist-packages (from scikit-learn->sklearn->pipelinehelper) (1.19.5)\n",
            "Requirement already satisfied: threadpoolctl>=2.0.0 in /usr/local/lib/python3.7/dist-packages (from scikit-learn->sklearn->pipelinehelper) (3.0.0)\n",
            "Installing collected packages: pipelinehelper\n",
            "Successfully installed pipelinehelper-0.7.8\n"
          ]
        }
      ]
    },
    {
      "cell_type": "markdown",
      "metadata": {
        "id": "uyGQjSt17PqU"
      },
      "source": [
        "**Next we create two functions to calculate different metrics and confusion matrix, so that we don't have to use the same code repeatedly for each model.**"
      ]
    },
    {
      "cell_type": "code",
      "metadata": {
        "id": "8_j8J9YCtoxb"
      },
      "source": [
        "# defining a function to compute different metrics to check performance of a classification model built using sklearn\n",
        "def model_performance_classification_sklearn(model, predictors, target):\n",
        "    \"\"\"\n",
        "    Function to compute different metrics to check classification model performance\n",
        "\n",
        "    model: classifier\n",
        "    predictors: independent variables\n",
        "    target: dependent variable\n",
        "    \"\"\"\n",
        "\n",
        "    TP = confusion_matrix(target, model.predict(predictors))[1, 1]\n",
        "    FP = confusion_matrix(target, model.predict(predictors))[0, 1]\n",
        "    FN = confusion_matrix(target, model.predict(predictors))[1, 0]\n",
        "    Cost = TP * 15 + FP * 5 + FN * 40  # maintenance cost by using model\n",
        "    Min_Cost = (TP + FN) * 15  # minimum possible maintenance cost = number of actual positives\n",
        "    Percent = Min_Cost / Cost  # ratio of minimum possible maintenance cost and maintenance cost by model\n",
        "\n",
        "    # predicting using the independent variables\n",
        "    pred = model.predict(predictors)\n",
        "\n",
        "    acc = accuracy_score(target, pred)  # to compute Accuracy\n",
        "    recall = recall_score(target, pred)  # to compute Recall\n",
        "    precision = precision_score(target, pred)  # to compute Precision\n",
        "    f1 = f1_score(target, pred)  # to compute F1-score\n",
        "\n",
        "    # creating a dataframe of metrics\n",
        "    df_perf = pd.DataFrame(\n",
        "        {\n",
        "            \"Accuracy\": acc,\n",
        "            \"Recall\": recall,\n",
        "            \"Precision\": precision,\n",
        "            \"F1\": f1,\n",
        "            \"Minimum_Vs_Model_cost\": Percent,\n",
        "        },\n",
        "        index=[0],\n",
        "    )\n",
        "\n",
        "    return df_perf"
      ],
      "execution_count": 18,
      "outputs": []
    },
    {
      "cell_type": "code",
      "metadata": {
        "id": "im7UHyoqZO45"
      },
      "source": [
        "# defining metric to be used for optimization and with cross-validation\n",
        "def Minimum_Vs_Model_cost(y_train, y_pred):\n",
        "    \"\"\"\n",
        "    We want the model to optimize the maintenance cost and reduce it to the lowest possible value.\n",
        "    The lowest possible maintenance cost will be achieved when each sample is predicted correctly.\n",
        "\n",
        "    In such a scenario, the maintenance cost will be the total number of failures times the maintenance cost of replacing one generator,\n",
        "    which is given by (TP + FN) * 40 (i.e., the actual positives*40).\n",
        "    For any other scenario,\n",
        "    the maintenance cost associated with the model will be given by (TP * 15 + FP * 5 + FN * 40).\n",
        "\n",
        "    We will use the ratio of these two maintenance costs as the cost function for our model.\n",
        "    The greater the ratio, the lower the associated maintenance cost and the better the model.\n",
        "    \"\"\"\n",
        "    TP = confusion_matrix(y_train, y_pred)[1, 1]\n",
        "    FP = confusion_matrix(y_train, y_pred)[0, 1]\n",
        "    FN = confusion_matrix(y_train, y_pred)[1, 0]\n",
        "    return ((TP + FN) * 15) / (TP * 15 + FP * 5 + FN * 40)\n",
        "\n",
        "\n",
        "# A value of .80 here, will represent that the minimum maintenance cost is 80% of the maintenance cost associated with the model.\n",
        "# Since minimum maintenance cost is constant for any data, when minimum cost will become 100% of maintenance cost associated with the model\n",
        "# Model will have give the least possible maintenance cost.\n",
        "\n",
        "\n",
        "# Type of scoring used to compare parameter combinations\n",
        "scorer = metrics.make_scorer(Minimum_Vs_Model_cost, greater_is_better=True)\n",
        "\n",
        "# Higher the values, the lower the maintenance cost"
      ],
      "execution_count": 19,
      "outputs": []
    },
    {
      "cell_type": "code",
      "metadata": {
        "id": "lqbR1cyMpzZ1"
      },
      "source": [
        "def confusion_matrix_sklearn(model, predictors, target):\n",
        "    \"\"\"\n",
        "    To plot the confusion_matrix with percentages\n",
        "\n",
        "    model: classifier\n",
        "    predictors: independent variables\n",
        "    target: dependent variable\n",
        "    \"\"\"\n",
        "    y_pred = model.predict(predictors)\n",
        "    cm = confusion_matrix(target, y_pred)\n",
        "    labels = np.asarray(\n",
        "        [\n",
        "            [\"{0:0.0f}\".format(item) + \"\\n{0:.2%}\".format(item / cm.flatten().sum())]\n",
        "            for item in cm.flatten()\n",
        "        ]\n",
        "    ).reshape(2, 2)\n",
        "\n",
        "    plt.figure(figsize=(6, 4))\n",
        "    sns.heatmap(cm, annot=labels, fmt=\"\")\n",
        "    plt.ylabel(\"True label\")\n",
        "    plt.xlabel(\"Predicted label\")"
      ],
      "execution_count": 20,
      "outputs": []
    },
    {
      "cell_type": "code",
      "metadata": {
        "id": "tCxwppdOosGp"
      },
      "source": [
        "# Splitting data in train and test sets\n",
        "from sklearn.model_selection import train_test_split\n",
        "X_train, X_test, y_train, y_test = train_test_split(x, y, test_size=0.33, random_state=0)"
      ],
      "execution_count": 21,
      "outputs": []
    },
    {
      "cell_type": "code",
      "metadata": {
        "id": "HJzl8oA0hI1U"
      },
      "source": [
        ""
      ],
      "execution_count": 21,
      "outputs": []
    },
    {
      "cell_type": "markdown",
      "metadata": {
        "id": "RhAjzJ9xOD_9"
      },
      "source": [
        "### OVER SAMPLE SMOTE DATA ###\n",
        "*** in this preceding section, we will train and build the classifiers on an oversampled data set**\n",
        "- the data set is oversampled using smote, which balances the uneven data sets by creating synthetic data instances of the minority group. "
      ]
    },
    {
      "cell_type": "code",
      "metadata": {
        "id": "am16X0oxOIvK"
      },
      "source": [
        "# importing smote froom the imblearn library\n",
        "from imblearn.over_sampling import SMOTE\n",
        "\n",
        "# Synthetic Minority Over Sampling Technique\n",
        "sm = SMOTE(sampling_strategy=1, k_neighbors=5, random_state=1)\n",
        "x_smote, y_smote = sm.fit_resample(X_train, y_train)"
      ],
      "execution_count": 22,
      "outputs": []
    },
    {
      "cell_type": "code",
      "metadata": {
        "id": "1B-nvcgxOI5Y",
        "colab": {
          "base_uri": "https://localhost:8080/",
          "height": 297
        },
        "outputId": "1cad89b5-32af-4c61-a442-86dab5dcaf5d"
      },
      "source": [
        "sns.countplot(x=y_smote,data=train_data)"
      ],
      "execution_count": 23,
      "outputs": [
        {
          "output_type": "execute_result",
          "data": {
            "text/plain": [
              "<matplotlib.axes._subplots.AxesSubplot at 0x7f6997096e90>"
            ]
          },
          "metadata": {},
          "execution_count": 23
        },
        {
          "output_type": "display_data",
          "data": {
            "image/png": "[encoded data removed]",
            "text/plain": [
              "<Figure size 432x288 with 1 Axes>"
            ]
          },
          "metadata": {
            "needs_background": "light"
          }
        }
      ]
    },
    {
      "cell_type": "code",
      "metadata": {
        "id": "4YogPlPjOI9z",
        "colab": {
          "base_uri": "https://localhost:8080/"
        },
        "outputId": "2b0ba20a-2350-4a5e-f713-36bfb7396d18"
      },
      "source": [
        "y_smote.shape,x_smote.shape"
      ],
      "execution_count": 24,
      "outputs": [
        {
          "output_type": "execute_result",
          "data": {
            "text/plain": [
              "((50638,), (50638, 40))"
            ]
          },
          "metadata": {},
          "execution_count": 24
        }
      ]
    },
    {
      "cell_type": "code",
      "metadata": {
        "id": "jzP_XwAkOJj5"
      },
      "source": [
        "from pipelinehelper import PipelineHelper"
      ],
      "execution_count": 25,
      "outputs": []
    },
    {
      "cell_type": "markdown",
      "metadata": {
        "id": "ZY0q02yiBtZH"
      },
      "source": [
        "### MODEL BUILDING \n",
        "\n",
        "---\n",
        "\n"
      ]
    },
    {
      "cell_type": "code",
      "metadata": {
        "id": "qoVGSACXgz2m",
        "colab": {
          "base_uri": "https://localhost:8080/"
        },
        "outputId": "27a15c4d-c07a-49ec-b599-2ee742a65923"
      },
      "source": [
        "# Construct some pipelines\n",
        "pipe_rf = Pipeline([\n",
        "    ('scaler', MinMaxScaler()),\n",
        "    ('clf', RandomForestClassifier()),\n",
        "])\n",
        "\n",
        "pipe_gb = Pipeline([\n",
        "    ('scaler', MinMaxScaler()),\n",
        "    ('clf', GradientBoostingClassifier()),\n",
        "])\n",
        "\n",
        "\n",
        "# List of pipelines for ease of iteration\n",
        "pipelines = [pipe_rf,pipe_gb]\n",
        "\t\t\t\n",
        "# Dictionary of pipelines and classifier types for ease of reference\n",
        "pipe_dict = {0: 'Random Forest', 1: 'GradientBoost'}\n",
        "\n",
        "# Fit the pipelines\n",
        "for pipe in pipelines:\n",
        "\tpipe.fit(X_train,y_train)\n",
        "\n",
        "# Compare accuracies\n",
        "for idx, val in enumerate(pipelines):\n",
        "\tprint('%s pipeline test accuracy: %.3f' % (pipe_dict[idx], val.score(X_test, y_test)))\n",
        "\n",
        "# Identify the most accurate model on test data\n",
        "best_acc = 0.0\n",
        "best_clf = 0\n",
        "best_pipe = ''\n",
        "for idx, val in enumerate(pipelines):\n",
        "\tif val.score(X_test, y_test) > best_acc:\n",
        "\t\tbest_acc = val.score(X_test, y_test)\n",
        "\t\tbest_pipe = val\n",
        "\t\tbest_clf = idx\n",
        "print('Classifier with best accuracy: %s' % pipe_dict[best_clf])\n"
      ],
      "execution_count": 26,
      "outputs": [
        {
          "output_type": "stream",
          "name": "stdout",
          "text": [
            "Random Forest pipeline test accuracy: 0.989\n",
            "GradientBoost pipeline test accuracy: 0.984\n",
            "Classifier with best accuracy: Random Forest\n"
          ]
        }
      ]
    },
    {
      "cell_type": "code",
      "metadata": {
        "id": "yW7Nbd0Hkj8a"
      },
      "source": [
        ""
      ],
      "execution_count": 26,
      "outputs": []
    },
    {
      "cell_type": "code",
      "metadata": {
        "id": "HmdZCQ5mkkSw",
        "colab": {
          "base_uri": "https://localhost:8080/",
          "height": 281
        },
        "outputId": "11f9f328-fa14-44b4-d1ef-0bb31e69cade"
      },
      "source": [
        "confusion_matrix_sklearn(pipe_rf,X_train,y_train)"
      ],
      "execution_count": 27,
      "outputs": [
        {
          "output_type": "display_data",
          "data": {
            "image/png": "[encoded data removed]",
            "text/plain": [
              "<Figure size 432x288 with 2 Axes>"
            ]
          },
          "metadata": {
            "needs_background": "light"
          }
        }
      ]
    },
    {
      "cell_type": "code",
      "metadata": {
        "id": "M9OAA767lryc",
        "colab": {
          "base_uri": "https://localhost:8080/",
          "height": 81
        },
        "outputId": "51c2cf89-1160-47c4-da7c-d6e1ae751625"
      },
      "source": [
        "Random_Forest_tune_perf_train = model_performance_classification_sklearn(\n",
        "    pipe_rf, X_train, y_train\n",
        ")\n",
        "Random_Forest_tune_perf_train"
      ],
      "execution_count": 28,
      "outputs": [
        {
          "output_type": "execute_result",
          "data": {
            "text/html": [
              "\n",
              "  <div id=\"df-6963ec77-12ee-4abe-9efb-520edd2397d4\">\n",
              "    <div class=\"colab-df-container\">\n",
              "      <div>\n",
              "<style scoped>\n",
              "    .dataframe tbody tr th:only-of-type {\n",
              "        vertical-align: middle;\n",
              "    }\n",
              "\n",
              "    .dataframe tbody tr th {\n",
              "        vertical-align: top;\n",
              "    }\n",
              "\n",
              "    .dataframe thead th {\n",
              "        text-align: right;\n",
              "    }\n",
              "</style>\n",
              "<table border=\"1\" class=\"dataframe\">\n",
              "  <thead>\n",
              "    <tr style=\"text-align: right;\">\n",
              "      <th></th>\n",
              "      <th>Accuracy</th>\n",
              "      <th>Recall</th>\n",
              "      <th>Precision</th>\n",
              "      <th>F1</th>\n",
              "      <th>Minimum_Vs_Model_cost</th>\n",
              "    </tr>\n",
              "  </thead>\n",
              "  <tbody>\n",
              "    <tr>\n",
              "      <th>0</th>\n",
              "      <td>1.0</td>\n",
              "      <td>1.0</td>\n",
              "      <td>1.0</td>\n",
              "      <td>1.0</td>\n",
              "      <td>1.0</td>\n",
              "    </tr>\n",
              "  </tbody>\n",
              "</table>\n",
              "</div>\n",
              "      <button class=\"colab-df-convert\" onclick=\"convertToInteractive('df-6963ec77-12ee-4abe-9efb-520edd2397d4')\"\n",
              "              title=\"Convert this dataframe to an interactive table.\"\n",
              "              style=\"display:none;\">\n",
              "        \n",
              "  <svg xmlns=\"http://www.w3.org/2000/svg\" height=\"24px\"viewBox=\"0 0 24 24\"\n",
              "       width=\"24px\">\n",
              "    <path d=\"M0 0h24v24H0V0z\" fill=\"none\"/>\n",
              "    <path d=\"M18.56 5.44l.94 2.06.94-2.06 2.06-.94-2.06-.94-.94-2.06-.94 2.06-2.06.94zm-11 1L8.5 8.5l.94-2.06 2.06-.94-2.06-.94L8.5 2.5l-.94 2.06-2.06.94zm10 10l.94 2.06.94-2.06 2.06-.94-2.06-.94-.94-2.06-.94 2.06-2.06.94z\"/><path d=\"M17.41 7.96l-1.37-1.37c-.4-.4-.92-.59-1.43-.59-.52 0-1.04.2-1.43.59L10.3 9.45l-7.72 7.72c-.78.78-.78 2.05 0 2.83L4 21.41c.39.39.9.59 1.41.59.51 0 1.02-.2 1.41-.59l7.78-7.78 2.81-2.81c.8-.78.8-2.07 0-2.86zM5.41 20L4 18.59l7.72-7.72 1.47 1.35L5.41 20z\"/>\n",
              "  </svg>\n",
              "      </button>\n",
              "      \n",
              "  <style>\n",
              "    .colab-df-container {\n",
              "      display:flex;\n",
              "      flex-wrap:wrap;\n",
              "      gap: 12px;\n",
              "    }\n",
              "\n",
              "    .colab-df-convert {\n",
              "      background-color: #E8F0FE;\n",
              "      border: none;\n",
              "      border-radius: 50%;\n",
              "      cursor: pointer;\n",
              "      display: none;\n",
              "      fill: #1967D2;\n",
              "      height: 32px;\n",
              "      padding: 0 0 0 0;\n",
              "      width: 32px;\n",
              "    }\n",
              "\n",
              "    .colab-df-convert:hover {\n",
              "      background-color: #E2EBFA;\n",
              "      box-shadow: 0px 1px 2px rgba(60, 64, 67, 0.3), 0px 1px 3px 1px rgba(60, 64, 67, 0.15);\n",
              "      fill: #174EA6;\n",
              "    }\n",
              "\n",
              "    [theme=dark] .colab-df-convert {\n",
              "      background-color: #3B4455;\n",
              "      fill: #D2E3FC;\n",
              "    }\n",
              "\n",
              "    [theme=dark] .colab-df-convert:hover {\n",
              "      background-color: #434B5C;\n",
              "      box-shadow: 0px 1px 3px 1px rgba(0, 0, 0, 0.15);\n",
              "      filter: drop-shadow(0px 1px 2px rgba(0, 0, 0, 0.3));\n",
              "      fill: #FFFFFF;\n",
              "    }\n",
              "  </style>\n",
              "\n",
              "      <script>\n",
              "        const buttonEl =\n",
              "          document.querySelector('#df-6963ec77-12ee-4abe-9efb-520edd2397d4 button.colab-df-convert');\n",
              "        buttonEl.style.display =\n",
              "          google.colab.kernel.accessAllowed ? 'block' : 'none';\n",
              "\n",
              "        async function convertToInteractive(key) {\n",
              "          const element = document.querySelector('#df-6963ec77-12ee-4abe-9efb-520edd2397d4');\n",
              "          const dataTable =\n",
              "            await google.colab.kernel.invokeFunction('convertToInteractive',\n",
              "                                                     [key], {});\n",
              "          if (!dataTable) return;\n",
              "\n",
              "          const docLinkHtml = 'Like what you see? Visit the ' +\n",
              "            '<a target=\"_blank\" href=https://colab.research.google.com/notebooks/data_table.ipynb>data table notebook</a>'\n",
              "            + ' to learn more about interactive tables.';\n",
              "          element.innerHTML = '';\n",
              "          dataTable['output_type'] = 'display_data';\n",
              "          await google.colab.output.renderOutput(dataTable, element);\n",
              "          const docLink = document.createElement('div');\n",
              "          docLink.innerHTML = docLinkHtml;\n",
              "          element.appendChild(docLink);\n",
              "        }\n",
              "      </script>\n",
              "    </div>\n",
              "  </div>\n",
              "  "
            ],
            "text/plain": [
              "   Accuracy  Recall  Precision   F1  Minimum_Vs_Model_cost\n",
              "0       1.0     1.0        1.0  1.0                    1.0"
            ]
          },
          "metadata": {},
          "execution_count": 28
        }
      ]
    },
    {
      "cell_type": "code",
      "metadata": {
        "id": "qEpAmUI-mesw",
        "colab": {
          "base_uri": "https://localhost:8080/",
          "height": 278
        },
        "outputId": "2bf5cef7-2b86-4eb8-ba77-189fd9d3e808"
      },
      "source": [
        "confusion_matrix_sklearn(pipe_rf,X_test,y_test)"
      ],
      "execution_count": 29,
      "outputs": [
        {
          "output_type": "display_data",
          "data": {
            "image/png": "[encoded data removed]",
            "text/plain": [
              "<Figure size 432x288 with 2 Axes>"
            ]
          },
          "metadata": {
            "needs_background": "light"
          }
        }
      ]
    },
    {
      "cell_type": "code",
      "metadata": {
        "id": "dF7wpN_SmI2m",
        "colab": {
          "base_uri": "https://localhost:8080/",
          "height": 81
        },
        "outputId": "2c2d7c58-3f62-45f3-fcfa-529a3aea4725"
      },
      "source": [
        "Random_Forest_tune_perf_test = model_performance_classification_sklearn(\n",
        "    pipe_rf, X_test, y_test\n",
        ")\n",
        "Random_Forest_tune_perf_test"
      ],
      "execution_count": 30,
      "outputs": [
        {
          "output_type": "execute_result",
          "data": {
            "text/html": [
              "\n",
              "  <div id=\"df-f980faab-52ca-4005-a91f-41b67afefe49\">\n",
              "    <div class=\"colab-df-container\">\n",
              "      <div>\n",
              "<style scoped>\n",
              "    .dataframe tbody tr th:only-of-type {\n",
              "        vertical-align: middle;\n",
              "    }\n",
              "\n",
              "    .dataframe tbody tr th {\n",
              "        vertical-align: top;\n",
              "    }\n",
              "\n",
              "    .dataframe thead th {\n",
              "        text-align: right;\n",
              "    }\n",
              "</style>\n",
              "<table border=\"1\" class=\"dataframe\">\n",
              "  <thead>\n",
              "    <tr style=\"text-align: right;\">\n",
              "      <th></th>\n",
              "      <th>Accuracy</th>\n",
              "      <th>Recall</th>\n",
              "      <th>Precision</th>\n",
              "      <th>F1</th>\n",
              "      <th>Minimum_Vs_Model_cost</th>\n",
              "    </tr>\n",
              "  </thead>\n",
              "  <tbody>\n",
              "    <tr>\n",
              "      <th>0</th>\n",
              "      <td>0.989394</td>\n",
              "      <td>0.810198</td>\n",
              "      <td>0.989619</td>\n",
              "      <td>0.890966</td>\n",
              "      <td>0.758053</td>\n",
              "    </tr>\n",
              "  </tbody>\n",
              "</table>\n",
              "</div>\n",
              "      <button class=\"colab-df-convert\" onclick=\"convertToInteractive('df-f980faab-52ca-4005-a91f-41b67afefe49')\"\n",
              "              title=\"Convert this dataframe to an interactive table.\"\n",
              "              style=\"display:none;\">\n",
              "        \n",
              "  <svg xmlns=\"http://www.w3.org/2000/svg\" height=\"24px\"viewBox=\"0 0 24 24\"\n",
              "       width=\"24px\">\n",
              "    <path d=\"M0 0h24v24H0V0z\" fill=\"none\"/>\n",
              "    <path d=\"M18.56 5.44l.94 2.06.94-2.06 2.06-.94-2.06-.94-.94-2.06-.94 2.06-2.06.94zm-11 1L8.5 8.5l.94-2.06 2.06-.94-2.06-.94L8.5 2.5l-.94 2.06-2.06.94zm10 10l.94 2.06.94-2.06 2.06-.94-2.06-.94-.94-2.06-.94 2.06-2.06.94z\"/><path d=\"M17.41 7.96l-1.37-1.37c-.4-.4-.92-.59-1.43-.59-.52 0-1.04.2-1.43.59L10.3 9.45l-7.72 7.72c-.78.78-.78 2.05 0 2.83L4 21.41c.39.39.9.59 1.41.59.51 0 1.02-.2 1.41-.59l7.78-7.78 2.81-2.81c.8-.78.8-2.07 0-2.86zM5.41 20L4 18.59l7.72-7.72 1.47 1.35L5.41 20z\"/>\n",
              "  </svg>\n",
              "      </button>\n",
              "      \n",
              "  <style>\n",
              "    .colab-df-container {\n",
              "      display:flex;\n",
              "      flex-wrap:wrap;\n",
              "      gap: 12px;\n",
              "    }\n",
              "\n",
              "    .colab-df-convert {\n",
              "      background-color: #E8F0FE;\n",
              "      border: none;\n",
              "      border-radius: 50%;\n",
              "      cursor: pointer;\n",
              "      display: none;\n",
              "      fill: #1967D2;\n",
              "      height: 32px;\n",
              "      padding: 0 0 0 0;\n",
              "      width: 32px;\n",
              "    }\n",
              "\n",
              "    .colab-df-convert:hover {\n",
              "      background-color: #E2EBFA;\n",
              "      box-shadow: 0px 1px 2px rgba(60, 64, 67, 0.3), 0px 1px 3px 1px rgba(60, 64, 67, 0.15);\n",
              "      fill: #174EA6;\n",
              "    }\n",
              "\n",
              "    [theme=dark] .colab-df-convert {\n",
              "      background-color: #3B4455;\n",
              "      fill: #D2E3FC;\n",
              "    }\n",
              "\n",
              "    [theme=dark] .colab-df-convert:hover {\n",
              "      background-color: #434B5C;\n",
              "      box-shadow: 0px 1px 3px 1px rgba(0, 0, 0, 0.15);\n",
              "      filter: drop-shadow(0px 1px 2px rgba(0, 0, 0, 0.3));\n",
              "      fill: #FFFFFF;\n",
              "    }\n",
              "  </style>\n",
              "\n",
              "      <script>\n",
              "        const buttonEl =\n",
              "          document.querySelector('#df-f980faab-52ca-4005-a91f-41b67afefe49 button.colab-df-convert');\n",
              "        buttonEl.style.display =\n",
              "          google.colab.kernel.accessAllowed ? 'block' : 'none';\n",
              "\n",
              "        async function convertToInteractive(key) {\n",
              "          const element = document.querySelector('#df-f980faab-52ca-4005-a91f-41b67afefe49');\n",
              "          const dataTable =\n",
              "            await google.colab.kernel.invokeFunction('convertToInteractive',\n",
              "                                                     [key], {});\n",
              "          if (!dataTable) return;\n",
              "\n",
              "          const docLinkHtml = 'Like what you see? Visit the ' +\n",
              "            '<a target=\"_blank\" href=https://colab.research.google.com/notebooks/data_table.ipynb>data table notebook</a>'\n",
              "            + ' to learn more about interactive tables.';\n",
              "          element.innerHTML = '';\n",
              "          dataTable['output_type'] = 'display_data';\n",
              "          await google.colab.output.renderOutput(dataTable, element);\n",
              "          const docLink = document.createElement('div');\n",
              "          docLink.innerHTML = docLinkHtml;\n",
              "          element.appendChild(docLink);\n",
              "        }\n",
              "      </script>\n",
              "    </div>\n",
              "  </div>\n",
              "  "
            ],
            "text/plain": [
              "   Accuracy    Recall  Precision        F1  Minimum_Vs_Model_cost\n",
              "0  0.989394  0.810198   0.989619  0.890966               0.758053"
            ]
          },
          "metadata": {},
          "execution_count": 30
        }
      ]
    },
    {
      "cell_type": "code",
      "metadata": {
        "id": "rHmFBPHamrlG"
      },
      "source": [
        ""
      ],
      "execution_count": 30,
      "outputs": []
    },
    {
      "cell_type": "code",
      "metadata": {
        "id": "K0WohzeloA1q"
      },
      "source": [
        ""
      ],
      "execution_count": 30,
      "outputs": []
    },
    {
      "cell_type": "code",
      "metadata": {
        "id": "g5c6imIRpC_9",
        "colab": {
          "base_uri": "https://localhost:8080/",
          "height": 281
        },
        "outputId": "fe7b961d-ad80-4fc3-8518-6944dfc1791f"
      },
      "source": [
        "confusion_matrix_sklearn(pipe_gb,X_train,y_train)"
      ],
      "execution_count": 31,
      "outputs": [
        {
          "output_type": "display_data",
          "data": {
            "image/png": "[encoded data removed]",
            "text/plain": [
              "<Figure size 432x288 with 2 Axes>"
            ]
          },
          "metadata": {
            "needs_background": "light"
          }
        }
      ]
    },
    {
      "cell_type": "code",
      "metadata": {
        "id": "64zaR22VpDJJ",
        "colab": {
          "base_uri": "https://localhost:8080/",
          "height": 81
        },
        "outputId": "83f081c5-5013-472d-a134-47d035e8a2fc"
      },
      "source": [
        "Gradient_clf_perf_train = model_performance_classification_sklearn(\n",
        "    pipe_gb, X_train, y_train\n",
        ")\n",
        "Gradient_clf_perf_train"
      ],
      "execution_count": 32,
      "outputs": [
        {
          "output_type": "execute_result",
          "data": {
            "text/html": [
              "\n",
              "  <div id=\"df-e3eb6f08-5c05-4879-8c1b-53796e5c03df\">\n",
              "    <div class=\"colab-df-container\">\n",
              "      <div>\n",
              "<style scoped>\n",
              "    .dataframe tbody tr th:only-of-type {\n",
              "        vertical-align: middle;\n",
              "    }\n",
              "\n",
              "    .dataframe tbody tr th {\n",
              "        vertical-align: top;\n",
              "    }\n",
              "\n",
              "    .dataframe thead th {\n",
              "        text-align: right;\n",
              "    }\n",
              "</style>\n",
              "<table border=\"1\" class=\"dataframe\">\n",
              "  <thead>\n",
              "    <tr style=\"text-align: right;\">\n",
              "      <th></th>\n",
              "      <th>Accuracy</th>\n",
              "      <th>Recall</th>\n",
              "      <th>Precision</th>\n",
              "      <th>F1</th>\n",
              "      <th>Minimum_Vs_Model_cost</th>\n",
              "    </tr>\n",
              "  </thead>\n",
              "  <tbody>\n",
              "    <tr>\n",
              "      <th>0</th>\n",
              "      <td>0.986343</td>\n",
              "      <td>0.767049</td>\n",
              "      <td>0.98185</td>\n",
              "      <td>0.861259</td>\n",
              "      <td>0.717887</td>\n",
              "    </tr>\n",
              "  </tbody>\n",
              "</table>\n",
              "</div>\n",
              "      <button class=\"colab-df-convert\" onclick=\"convertToInteractive('df-e3eb6f08-5c05-4879-8c1b-53796e5c03df')\"\n",
              "              title=\"Convert this dataframe to an interactive table.\"\n",
              "              style=\"display:none;\">\n",
              "        \n",
              "  <svg xmlns=\"http://www.w3.org/2000/svg\" height=\"24px\"viewBox=\"0 0 24 24\"\n",
              "       width=\"24px\">\n",
              "    <path d=\"M0 0h24v24H0V0z\" fill=\"none\"/>\n",
              "    <path d=\"M18.56 5.44l.94 2.06.94-2.06 2.06-.94-2.06-.94-.94-2.06-.94 2.06-2.06.94zm-11 1L8.5 8.5l.94-2.06 2.06-.94-2.06-.94L8.5 2.5l-.94 2.06-2.06.94zm10 10l.94 2.06.94-2.06 2.06-.94-2.06-.94-.94-2.06-.94 2.06-2.06.94z\"/><path d=\"M17.41 7.96l-1.37-1.37c-.4-.4-.92-.59-1.43-.59-.52 0-1.04.2-1.43.59L10.3 9.45l-7.72 7.72c-.78.78-.78 2.05 0 2.83L4 21.41c.39.39.9.59 1.41.59.51 0 1.02-.2 1.41-.59l7.78-7.78 2.81-2.81c.8-.78.8-2.07 0-2.86zM5.41 20L4 18.59l7.72-7.72 1.47 1.35L5.41 20z\"/>\n",
              "  </svg>\n",
              "      </button>\n",
              "      \n",
              "  <style>\n",
              "    .colab-df-container {\n",
              "      display:flex;\n",
              "      flex-wrap:wrap;\n",
              "      gap: 12px;\n",
              "    }\n",
              "\n",
              "    .colab-df-convert {\n",
              "      background-color: #E8F0FE;\n",
              "      border: none;\n",
              "      border-radius: 50%;\n",
              "      cursor: pointer;\n",
              "      display: none;\n",
              "      fill: #1967D2;\n",
              "      height: 32px;\n",
              "      padding: 0 0 0 0;\n",
              "      width: 32px;\n",
              "    }\n",
              "\n",
              "    .colab-df-convert:hover {\n",
              "      background-color: #E2EBFA;\n",
              "      box-shadow: 0px 1px 2px rgba(60, 64, 67, 0.3), 0px 1px 3px 1px rgba(60, 64, 67, 0.15);\n",
              "      fill: #174EA6;\n",
              "    }\n",
              "\n",
              "    [theme=dark] .colab-df-convert {\n",
              "      background-color: #3B4455;\n",
              "      fill: #D2E3FC;\n",
              "    }\n",
              "\n",
              "    [theme=dark] .colab-df-convert:hover {\n",
              "      background-color: #434B5C;\n",
              "      box-shadow: 0px 1px 3px 1px rgba(0, 0, 0, 0.15);\n",
              "      filter: drop-shadow(0px 1px 2px rgba(0, 0, 0, 0.3));\n",
              "      fill: #FFFFFF;\n",
              "    }\n",
              "  </style>\n",
              "\n",
              "      <script>\n",
              "        const buttonEl =\n",
              "          document.querySelector('#df-e3eb6f08-5c05-4879-8c1b-53796e5c03df button.colab-df-convert');\n",
              "        buttonEl.style.display =\n",
              "          google.colab.kernel.accessAllowed ? 'block' : 'none';\n",
              "\n",
              "        async function convertToInteractive(key) {\n",
              "          const element = document.querySelector('#df-e3eb6f08-5c05-4879-8c1b-53796e5c03df');\n",
              "          const dataTable =\n",
              "            await google.colab.kernel.invokeFunction('convertToInteractive',\n",
              "                                                     [key], {});\n",
              "          if (!dataTable) return;\n",
              "\n",
              "          const docLinkHtml = 'Like what you see? Visit the ' +\n",
              "            '<a target=\"_blank\" href=https://colab.research.google.com/notebooks/data_table.ipynb>data table notebook</a>'\n",
              "            + ' to learn more about interactive tables.';\n",
              "          element.innerHTML = '';\n",
              "          dataTable['output_type'] = 'display_data';\n",
              "          await google.colab.output.renderOutput(dataTable, element);\n",
              "          const docLink = document.createElement('div');\n",
              "          docLink.innerHTML = docLinkHtml;\n",
              "          element.appendChild(docLink);\n",
              "        }\n",
              "      </script>\n",
              "    </div>\n",
              "  </div>\n",
              "  "
            ],
            "text/plain": [
              "   Accuracy    Recall  Precision        F1  Minimum_Vs_Model_cost\n",
              "0  0.986343  0.767049    0.98185  0.861259               0.717887"
            ]
          },
          "metadata": {},
          "execution_count": 32
        }
      ]
    },
    {
      "cell_type": "code",
      "metadata": {
        "id": "e3kxNIzBr8GN",
        "colab": {
          "base_uri": "https://localhost:8080/",
          "height": 278
        },
        "outputId": "ea68d1a6-e0fc-4eb9-9a22-52c96dd087f5"
      },
      "source": [
        "confusion_matrix_sklearn(pipe_gb,X_test,y_test)"
      ],
      "execution_count": 33,
      "outputs": [
        {
          "output_type": "display_data",
          "data": {
            "image/png": "[encoded data removed]",
            "text/plain": [
              "<Figure size 432x288 with 2 Axes>"
            ]
          },
          "metadata": {
            "needs_background": "light"
          }
        }
      ]
    },
    {
      "cell_type": "code",
      "metadata": {
        "id": "t4XpucJSrgy0",
        "colab": {
          "base_uri": "https://localhost:8080/",
          "height": 81
        },
        "outputId": "b86c1186-07a9-4719-b5bc-d76e105d110d"
      },
      "source": [
        "Gradient_clf_perf_test = model_performance_classification_sklearn(\n",
        "    pipe_gb, X_test, y_test\n",
        ")\n",
        "Gradient_clf_perf_test"
      ],
      "execution_count": 34,
      "outputs": [
        {
          "output_type": "execute_result",
          "data": {
            "text/html": [
              "\n",
              "  <div id=\"df-e3942dd7-228b-44ae-bceb-87b517f60fca\">\n",
              "    <div class=\"colab-df-container\">\n",
              "      <div>\n",
              "<style scoped>\n",
              "    .dataframe tbody tr th:only-of-type {\n",
              "        vertical-align: middle;\n",
              "    }\n",
              "\n",
              "    .dataframe tbody tr th {\n",
              "        vertical-align: top;\n",
              "    }\n",
              "\n",
              "    .dataframe thead th {\n",
              "        text-align: right;\n",
              "    }\n",
              "</style>\n",
              "<table border=\"1\" class=\"dataframe\">\n",
              "  <thead>\n",
              "    <tr style=\"text-align: right;\">\n",
              "      <th></th>\n",
              "      <th>Accuracy</th>\n",
              "      <th>Recall</th>\n",
              "      <th>Precision</th>\n",
              "      <th>F1</th>\n",
              "      <th>Minimum_Vs_Model_cost</th>\n",
              "    </tr>\n",
              "  </thead>\n",
              "  <tbody>\n",
              "    <tr>\n",
              "      <th>0</th>\n",
              "      <td>0.984015</td>\n",
              "      <td>0.753541</td>\n",
              "      <td>0.934974</td>\n",
              "      <td>0.83451</td>\n",
              "      <td>0.700165</td>\n",
              "    </tr>\n",
              "  </tbody>\n",
              "</table>\n",
              "</div>\n",
              "      <button class=\"colab-df-convert\" onclick=\"convertToInteractive('df-e3942dd7-228b-44ae-bceb-87b517f60fca')\"\n",
              "              title=\"Convert this dataframe to an interactive table.\"\n",
              "              style=\"display:none;\">\n",
              "        \n",
              "  <svg xmlns=\"http://www.w3.org/2000/svg\" height=\"24px\"viewBox=\"0 0 24 24\"\n",
              "       width=\"24px\">\n",
              "    <path d=\"M0 0h24v24H0V0z\" fill=\"none\"/>\n",
              "    <path d=\"M18.56 5.44l.94 2.06.94-2.06 2.06-.94-2.06-.94-.94-2.06-.94 2.06-2.06.94zm-11 1L8.5 8.5l.94-2.06 2.06-.94-2.06-.94L8.5 2.5l-.94 2.06-2.06.94zm10 10l.94 2.06.94-2.06 2.06-.94-2.06-.94-.94-2.06-.94 2.06-2.06.94z\"/><path d=\"M17.41 7.96l-1.37-1.37c-.4-.4-.92-.59-1.43-.59-.52 0-1.04.2-1.43.59L10.3 9.45l-7.72 7.72c-.78.78-.78 2.05 0 2.83L4 21.41c.39.39.9.59 1.41.59.51 0 1.02-.2 1.41-.59l7.78-7.78 2.81-2.81c.8-.78.8-2.07 0-2.86zM5.41 20L4 18.59l7.72-7.72 1.47 1.35L5.41 20z\"/>\n",
              "  </svg>\n",
              "      </button>\n",
              "      \n",
              "  <style>\n",
              "    .colab-df-container {\n",
              "      display:flex;\n",
              "      flex-wrap:wrap;\n",
              "      gap: 12px;\n",
              "    }\n",
              "\n",
              "    .colab-df-convert {\n",
              "      background-color: #E8F0FE;\n",
              "      border: none;\n",
              "      border-radius: 50%;\n",
              "      cursor: pointer;\n",
              "      display: none;\n",
              "      fill: #1967D2;\n",
              "      height: 32px;\n",
              "      padding: 0 0 0 0;\n",
              "      width: 32px;\n",
              "    }\n",
              "\n",
              "    .colab-df-convert:hover {\n",
              "      background-color: #E2EBFA;\n",
              "      box-shadow: 0px 1px 2px rgba(60, 64, 67, 0.3), 0px 1px 3px 1px rgba(60, 64, 67, 0.15);\n",
              "      fill: #174EA6;\n",
              "    }\n",
              "\n",
              "    [theme=dark] .colab-df-convert {\n",
              "      background-color: #3B4455;\n",
              "      fill: #D2E3FC;\n",
              "    }\n",
              "\n",
              "    [theme=dark] .colab-df-convert:hover {\n",
              "      background-color: #434B5C;\n",
              "      box-shadow: 0px 1px 3px 1px rgba(0, 0, 0, 0.15);\n",
              "      filter: drop-shadow(0px 1px 2px rgba(0, 0, 0, 0.3));\n",
              "      fill: #FFFFFF;\n",
              "    }\n",
              "  </style>\n",
              "\n",
              "      <script>\n",
              "        const buttonEl =\n",
              "          document.querySelector('#df-e3942dd7-228b-44ae-bceb-87b517f60fca button.colab-df-convert');\n",
              "        buttonEl.style.display =\n",
              "          google.colab.kernel.accessAllowed ? 'block' : 'none';\n",
              "\n",
              "        async function convertToInteractive(key) {\n",
              "          const element = document.querySelector('#df-e3942dd7-228b-44ae-bceb-87b517f60fca');\n",
              "          const dataTable =\n",
              "            await google.colab.kernel.invokeFunction('convertToInteractive',\n",
              "                                                     [key], {});\n",
              "          if (!dataTable) return;\n",
              "\n",
              "          const docLinkHtml = 'Like what you see? Visit the ' +\n",
              "            '<a target=\"_blank\" href=https://colab.research.google.com/notebooks/data_table.ipynb>data table notebook</a>'\n",
              "            + ' to learn more about interactive tables.';\n",
              "          element.innerHTML = '';\n",
              "          dataTable['output_type'] = 'display_data';\n",
              "          await google.colab.output.renderOutput(dataTable, element);\n",
              "          const docLink = document.createElement('div');\n",
              "          docLink.innerHTML = docLinkHtml;\n",
              "          element.appendChild(docLink);\n",
              "        }\n",
              "      </script>\n",
              "    </div>\n",
              "  </div>\n",
              "  "
            ],
            "text/plain": [
              "   Accuracy    Recall  Precision       F1  Minimum_Vs_Model_cost\n",
              "0  0.984015  0.753541   0.934974  0.83451               0.700165"
            ]
          },
          "metadata": {},
          "execution_count": 34
        }
      ]
    },
    {
      "cell_type": "code",
      "metadata": {
        "id": "GMGVTidGta_3"
      },
      "source": [
        ""
      ],
      "execution_count": 34,
      "outputs": []
    },
    {
      "cell_type": "code",
      "metadata": {
        "id": "ulaao_lYv-wo",
        "colab": {
          "base_uri": "https://localhost:8080/",
          "height": 224
        },
        "outputId": "7a1f9730-94a9-4698-d058-fe0da6d6024a"
      },
      "source": [
        "#compares and presents the performances of all the models on a data frame\n",
        "models_comp_df = pd.concat(\n",
        "    [\n",
        "        Random_Forest_tune_perf_train.T,\n",
        "        Gradient_clf_perf_train.T,\n",
        "    ],\n",
        "    axis=1,\n",
        ")\n",
        "models_comp_df.columns = [\n",
        "    \"Random Forest\",\n",
        "    \"GradientBoost\"\n",
        "]\n",
        "print(\"Model Evaluation and data performance comparison:\")\n",
        "models_comp_df"
      ],
      "execution_count": 35,
      "outputs": [
        {
          "output_type": "stream",
          "name": "stdout",
          "text": [
            "Model Evaluation and data performance comparison:\n"
          ]
        },
        {
          "output_type": "execute_result",
          "data": {
            "text/html": [
              "\n",
              "  <div id=\"df-0d72ad85-ea45-4dc1-b21b-166c0ed9d284\">\n",
              "    <div class=\"colab-df-container\">\n",
              "      <div>\n",
              "<style scoped>\n",
              "    .dataframe tbody tr th:only-of-type {\n",
              "        vertical-align: middle;\n",
              "    }\n",
              "\n",
              "    .dataframe tbody tr th {\n",
              "        vertical-align: top;\n",
              "    }\n",
              "\n",
              "    .dataframe thead th {\n",
              "        text-align: right;\n",
              "    }\n",
              "</style>\n",
              "<table border=\"1\" class=\"dataframe\">\n",
              "  <thead>\n",
              "    <tr style=\"text-align: right;\">\n",
              "      <th></th>\n",
              "      <th>Random Forest</th>\n",
              "      <th>GradientBoost</th>\n",
              "    </tr>\n",
              "  </thead>\n",
              "  <tbody>\n",
              "    <tr>\n",
              "      <th>Accuracy</th>\n",
              "      <td>1.0</td>\n",
              "      <td>0.986343</td>\n",
              "    </tr>\n",
              "    <tr>\n",
              "      <th>Recall</th>\n",
              "      <td>1.0</td>\n",
              "      <td>0.767049</td>\n",
              "    </tr>\n",
              "    <tr>\n",
              "      <th>Precision</th>\n",
              "      <td>1.0</td>\n",
              "      <td>0.981850</td>\n",
              "    </tr>\n",
              "    <tr>\n",
              "      <th>F1</th>\n",
              "      <td>1.0</td>\n",
              "      <td>0.861259</td>\n",
              "    </tr>\n",
              "    <tr>\n",
              "      <th>Minimum_Vs_Model_cost</th>\n",
              "      <td>1.0</td>\n",
              "      <td>0.717887</td>\n",
              "    </tr>\n",
              "  </tbody>\n",
              "</table>\n",
              "</div>\n",
              "      <button class=\"colab-df-convert\" onclick=\"convertToInteractive('df-0d72ad85-ea45-4dc1-b21b-166c0ed9d284')\"\n",
              "              title=\"Convert this dataframe to an interactive table.\"\n",
              "              style=\"display:none;\">\n",
              "        \n",
              "  <svg xmlns=\"http://www.w3.org/2000/svg\" height=\"24px\"viewBox=\"0 0 24 24\"\n",
              "       width=\"24px\">\n",
              "    <path d=\"M0 0h24v24H0V0z\" fill=\"none\"/>\n",
              "    <path d=\"M18.56 5.44l.94 2.06.94-2.06 2.06-.94-2.06-.94-.94-2.06-.94 2.06-2.06.94zm-11 1L8.5 8.5l.94-2.06 2.06-.94-2.06-.94L8.5 2.5l-.94 2.06-2.06.94zm10 10l.94 2.06.94-2.06 2.06-.94-2.06-.94-.94-2.06-.94 2.06-2.06.94z\"/><path d=\"M17.41 7.96l-1.37-1.37c-.4-.4-.92-.59-1.43-.59-.52 0-1.04.2-1.43.59L10.3 9.45l-7.72 7.72c-.78.78-.78 2.05 0 2.83L4 21.41c.39.39.9.59 1.41.59.51 0 1.02-.2 1.41-.59l7.78-7.78 2.81-2.81c.8-.78.8-2.07 0-2.86zM5.41 20L4 18.59l7.72-7.72 1.47 1.35L5.41 20z\"/>\n",
              "  </svg>\n",
              "      </button>\n",
              "      \n",
              "  <style>\n",
              "    .colab-df-container {\n",
              "      display:flex;\n",
              "      flex-wrap:wrap;\n",
              "      gap: 12px;\n",
              "    }\n",
              "\n",
              "    .colab-df-convert {\n",
              "      background-color: #E8F0FE;\n",
              "      border: none;\n",
              "      border-radius: 50%;\n",
              "      cursor: pointer;\n",
              "      display: none;\n",
              "      fill: #1967D2;\n",
              "      height: 32px;\n",
              "      padding: 0 0 0 0;\n",
              "      width: 32px;\n",
              "    }\n",
              "\n",
              "    .colab-df-convert:hover {\n",
              "      background-color: #E2EBFA;\n",
              "      box-shadow: 0px 1px 2px rgba(60, 64, 67, 0.3), 0px 1px 3px 1px rgba(60, 64, 67, 0.15);\n",
              "      fill: #174EA6;\n",
              "    }\n",
              "\n",
              "    [theme=dark] .colab-df-convert {\n",
              "      background-color: #3B4455;\n",
              "      fill: #D2E3FC;\n",
              "    }\n",
              "\n",
              "    [theme=dark] .colab-df-convert:hover {\n",
              "      background-color: #434B5C;\n",
              "      box-shadow: 0px 1px 3px 1px rgba(0, 0, 0, 0.15);\n",
              "      filter: drop-shadow(0px 1px 2px rgba(0, 0, 0, 0.3));\n",
              "      fill: #FFFFFF;\n",
              "    }\n",
              "  </style>\n",
              "\n",
              "      <script>\n",
              "        const buttonEl =\n",
              "          document.querySelector('#df-0d72ad85-ea45-4dc1-b21b-166c0ed9d284 button.colab-df-convert');\n",
              "        buttonEl.style.display =\n",
              "          google.colab.kernel.accessAllowed ? 'block' : 'none';\n",
              "\n",
              "        async function convertToInteractive(key) {\n",
              "          const element = document.querySelector('#df-0d72ad85-ea45-4dc1-b21b-166c0ed9d284');\n",
              "          const dataTable =\n",
              "            await google.colab.kernel.invokeFunction('convertToInteractive',\n",
              "                                                     [key], {});\n",
              "          if (!dataTable) return;\n",
              "\n",
              "          const docLinkHtml = 'Like what you see? Visit the ' +\n",
              "            '<a target=\"_blank\" href=https://colab.research.google.com/notebooks/data_table.ipynb>data table notebook</a>'\n",
              "            + ' to learn more about interactive tables.';\n",
              "          element.innerHTML = '';\n",
              "          dataTable['output_type'] = 'display_data';\n",
              "          await google.colab.output.renderOutput(dataTable, element);\n",
              "          const docLink = document.createElement('div');\n",
              "          docLink.innerHTML = docLinkHtml;\n",
              "          element.appendChild(docLink);\n",
              "        }\n",
              "      </script>\n",
              "    </div>\n",
              "  </div>\n",
              "  "
            ],
            "text/plain": [
              "                       Random Forest  GradientBoost\n",
              "Accuracy                         1.0       0.986343\n",
              "Recall                           1.0       0.767049\n",
              "Precision                        1.0       0.981850\n",
              "F1                               1.0       0.861259\n",
              "Minimum_Vs_Model_cost            1.0       0.717887"
            ]
          },
          "metadata": {},
          "execution_count": 35
        }
      ]
    },
    {
      "cell_type": "code",
      "metadata": {
        "id": "WKH8qwkCv_BE",
        "colab": {
          "base_uri": "https://localhost:8080/",
          "height": 224
        },
        "outputId": "a02c0d15-6f66-4511-ccd8-69a9a7b56f91"
      },
      "source": [
        "#compares and presents the performances of all the models on a data frame\n",
        "models_comp_df2 = pd.concat(\n",
        "    [\n",
        "        Random_Forest_tune_perf_test.T,\n",
        "        Gradient_clf_perf_test.T,\n",
        "    ],\n",
        "    axis=1,\n",
        ")\n",
        "models_comp_df2.columns = [\n",
        "    \"Random Forest\",\n",
        "    \"GradientBoost\"\n",
        "]\n",
        "print(\"Model Evaluation and data performance comparison:\")\n",
        "models_comp_df2"
      ],
      "execution_count": 36,
      "outputs": [
        {
          "output_type": "stream",
          "name": "stdout",
          "text": [
            "Model Evaluation and data performance comparison:\n"
          ]
        },
        {
          "output_type": "execute_result",
          "data": {
            "text/html": [
              "\n",
              "  <div id=\"df-6f3f5fdf-1474-45db-9813-e9c92a4ef437\">\n",
              "    <div class=\"colab-df-container\">\n",
              "      <div>\n",
              "<style scoped>\n",
              "    .dataframe tbody tr th:only-of-type {\n",
              "        vertical-align: middle;\n",
              "    }\n",
              "\n",
              "    .dataframe tbody tr th {\n",
              "        vertical-align: top;\n",
              "    }\n",
              "\n",
              "    .dataframe thead th {\n",
              "        text-align: right;\n",
              "    }\n",
              "</style>\n",
              "<table border=\"1\" class=\"dataframe\">\n",
              "  <thead>\n",
              "    <tr style=\"text-align: right;\">\n",
              "      <th></th>\n",
              "      <th>Random Forest</th>\n",
              "      <th>GradientBoost</th>\n",
              "    </tr>\n",
              "  </thead>\n",
              "  <tbody>\n",
              "    <tr>\n",
              "      <th>Accuracy</th>\n",
              "      <td>0.989394</td>\n",
              "      <td>0.984015</td>\n",
              "    </tr>\n",
              "    <tr>\n",
              "      <th>Recall</th>\n",
              "      <td>0.810198</td>\n",
              "      <td>0.753541</td>\n",
              "    </tr>\n",
              "    <tr>\n",
              "      <th>Precision</th>\n",
              "      <td>0.989619</td>\n",
              "      <td>0.934974</td>\n",
              "    </tr>\n",
              "    <tr>\n",
              "      <th>F1</th>\n",
              "      <td>0.890966</td>\n",
              "      <td>0.834510</td>\n",
              "    </tr>\n",
              "    <tr>\n",
              "      <th>Minimum_Vs_Model_cost</th>\n",
              "      <td>0.758053</td>\n",
              "      <td>0.700165</td>\n",
              "    </tr>\n",
              "  </tbody>\n",
              "</table>\n",
              "</div>\n",
              "      <button class=\"colab-df-convert\" onclick=\"convertToInteractive('df-6f3f5fdf-1474-45db-9813-e9c92a4ef437')\"\n",
              "              title=\"Convert this dataframe to an interactive table.\"\n",
              "              style=\"display:none;\">\n",
              "        \n",
              "  <svg xmlns=\"http://www.w3.org/2000/svg\" height=\"24px\"viewBox=\"0 0 24 24\"\n",
              "       width=\"24px\">\n",
              "    <path d=\"M0 0h24v24H0V0z\" fill=\"none\"/>\n",
              "    <path d=\"M18.56 5.44l.94 2.06.94-2.06 2.06-.94-2.06-.94-.94-2.06-.94 2.06-2.06.94zm-11 1L8.5 8.5l.94-2.06 2.06-.94-2.06-.94L8.5 2.5l-.94 2.06-2.06.94zm10 10l.94 2.06.94-2.06 2.06-.94-2.06-.94-.94-2.06-.94 2.06-2.06.94z\"/><path d=\"M17.41 7.96l-1.37-1.37c-.4-.4-.92-.59-1.43-.59-.52 0-1.04.2-1.43.59L10.3 9.45l-7.72 7.72c-.78.78-.78 2.05 0 2.83L4 21.41c.39.39.9.59 1.41.59.51 0 1.02-.2 1.41-.59l7.78-7.78 2.81-2.81c.8-.78.8-2.07 0-2.86zM5.41 20L4 18.59l7.72-7.72 1.47 1.35L5.41 20z\"/>\n",
              "  </svg>\n",
              "      </button>\n",
              "      \n",
              "  <style>\n",
              "    .colab-df-container {\n",
              "      display:flex;\n",
              "      flex-wrap:wrap;\n",
              "      gap: 12px;\n",
              "    }\n",
              "\n",
              "    .colab-df-convert {\n",
              "      background-color: #E8F0FE;\n",
              "      border: none;\n",
              "      border-radius: 50%;\n",
              "      cursor: pointer;\n",
              "      display: none;\n",
              "      fill: #1967D2;\n",
              "      height: 32px;\n",
              "      padding: 0 0 0 0;\n",
              "      width: 32px;\n",
              "    }\n",
              "\n",
              "    .colab-df-convert:hover {\n",
              "      background-color: #E2EBFA;\n",
              "      box-shadow: 0px 1px 2px rgba(60, 64, 67, 0.3), 0px 1px 3px 1px rgba(60, 64, 67, 0.15);\n",
              "      fill: #174EA6;\n",
              "    }\n",
              "\n",
              "    [theme=dark] .colab-df-convert {\n",
              "      background-color: #3B4455;\n",
              "      fill: #D2E3FC;\n",
              "    }\n",
              "\n",
              "    [theme=dark] .colab-df-convert:hover {\n",
              "      background-color: #434B5C;\n",
              "      box-shadow: 0px 1px 3px 1px rgba(0, 0, 0, 0.15);\n",
              "      filter: drop-shadow(0px 1px 2px rgba(0, 0, 0, 0.3));\n",
              "      fill: #FFFFFF;\n",
              "    }\n",
              "  </style>\n",
              "\n",
              "      <script>\n",
              "        const buttonEl =\n",
              "          document.querySelector('#df-6f3f5fdf-1474-45db-9813-e9c92a4ef437 button.colab-df-convert');\n",
              "        buttonEl.style.display =\n",
              "          google.colab.kernel.accessAllowed ? 'block' : 'none';\n",
              "\n",
              "        async function convertToInteractive(key) {\n",
              "          const element = document.querySelector('#df-6f3f5fdf-1474-45db-9813-e9c92a4ef437');\n",
              "          const dataTable =\n",
              "            await google.colab.kernel.invokeFunction('convertToInteractive',\n",
              "                                                     [key], {});\n",
              "          if (!dataTable) return;\n",
              "\n",
              "          const docLinkHtml = 'Like what you see? Visit the ' +\n",
              "            '<a target=\"_blank\" href=https://colab.research.google.com/notebooks/data_table.ipynb>data table notebook</a>'\n",
              "            + ' to learn more about interactive tables.';\n",
              "          element.innerHTML = '';\n",
              "          dataTable['output_type'] = 'display_data';\n",
              "          await google.colab.output.renderOutput(dataTable, element);\n",
              "          const docLink = document.createElement('div');\n",
              "          docLink.innerHTML = docLinkHtml;\n",
              "          element.appendChild(docLink);\n",
              "        }\n",
              "      </script>\n",
              "    </div>\n",
              "  </div>\n",
              "  "
            ],
            "text/plain": [
              "                       Random Forest  GradientBoost\n",
              "Accuracy                    0.989394       0.984015\n",
              "Recall                      0.810198       0.753541\n",
              "Precision                   0.989619       0.934974\n",
              "F1                          0.890966       0.834510\n",
              "Minimum_Vs_Model_cost       0.758053       0.700165"
            ]
          },
          "metadata": {},
          "execution_count": 36
        }
      ]
    },
    {
      "cell_type": "code",
      "metadata": {
        "id": "bePYHXmAXzcH"
      },
      "source": [
        ""
      ],
      "execution_count": 36,
      "outputs": []
    },
    {
      "cell_type": "code",
      "metadata": {
        "id": "EBgfkroieFFV"
      },
      "source": [
        ""
      ],
      "execution_count": 36,
      "outputs": []
    },
    {
      "cell_type": "markdown",
      "metadata": {
        "id": "zUHQlJOTkjHy"
      },
      "source": [
        "### HYPERPARAMETER TUNNING ###\n",
        "*** The 3 best performing Models in the preceding section will be tuned these three are selected because they performed well and had the better f1 score within the previosuly six trained model. they possesd the minium\n",
        "- Random Forest Model\n",
        "- GradientBoost Classifier"
      ]
    },
    {
      "cell_type": "markdown",
      "metadata": {
        "id": "V16nGkM3EA_z"
      },
      "source": [
        "*** RANDOM FOREST HYPERPARAMTER TUNNING"
      ]
    },
    {
      "cell_type": "code",
      "metadata": {
        "id": "nCuZVbi0xQV1",
        "colab": {
          "base_uri": "https://localhost:8080/"
        },
        "outputId": "37dd1207-7884-42a5-f84e-ee0ddb770cd4"
      },
      "source": [
        "#hperparameter tunning for the random forest classifier \n",
        "RF_pipe = Pipeline([\n",
        "    ('scaler', MinMaxScaler()),\n",
        "    ('clf', RandomForestClassifier()),\n",
        "])\n",
        "param_grid = {\n",
        "    \"clf__n_estimators\": [150,250],\n",
        "    \"clf__min_samples_leaf\": np.arange(1, 3),\n",
        "    \"clf__max_features\": ['sqrt','log2'],\n",
        "    \"clf__max_samples\": np.arange(0.2, 0.6, 0.1)}\n",
        "grid_search_tune = GridSearchCV(RF_pipe, param_grid, cv=2, n_jobs=2, verbose=3)\n",
        "grid_search_tune.fit(x_smote, y_smote)\n",
        "\n",
        "print(\"Best parameters set:\")\n",
        "print(grid_search_tune.best_estimator_.steps)\n",
        "\n",
        "# measuring performance on test set\n",
        "print (\"Applying best classifier on test data:\")\n",
        "rf_best_clf = grid_search_tune.best_estimator_\n",
        "predictions = rf_best_clf.predict(X_test)"
      ],
      "execution_count": 37,
      "outputs": [
        {
          "output_type": "stream",
          "name": "stdout",
          "text": [
            "Fitting 2 folds for each of 32 candidates, totalling 64 fits\n",
            "Best parameters set:\n",
            "[('scaler', MinMaxScaler()), ('clf', RandomForestClassifier(max_features='sqrt', max_samples=0.5000000000000001,\n",
            "                       n_estimators=150))]\n",
            "Applying best classifier on test data:\n"
          ]
        }
      ]
    },
    {
      "cell_type": "code",
      "metadata": {
        "id": "SW74fDGySfTb"
      },
      "source": [
        "extracted_best = grid_search_tune.best_estimator_.steps[-1][1]"
      ],
      "execution_count": 38,
      "outputs": []
    },
    {
      "cell_type": "code",
      "metadata": {
        "id": "Yt6cTOLmSxbA",
        "colab": {
          "base_uri": "https://localhost:8080/",
          "height": 457
        },
        "outputId": "42a93d7f-3cc4-441c-c9d6-cbf243379d1b"
      },
      "source": [
        "#to get the feature importance \n",
        "extracted_best.fit(df_scaled, y)\n",
        "feature_names = list(x.columns)\n",
        "importances = extracted_best.feature_importances_\n",
        "indices = np.argsort(importances)\n",
        "\n",
        "plt.figure(figsize=(10, 7))\n",
        "plt.title(\"Feature Importances\")\n",
        "plt.barh(range(len(indices)), importances[indices], color='lightgreen', align=\"center\")\n",
        "plt.yticks(range(len(indices)), [feature_names[i] for i in indices])\n",
        "plt.xlabel(\"Relative Importance\")\n",
        "plt.show()"
      ],
      "execution_count": 39,
      "outputs": [
        {
          "output_type": "display_data",
          "data": {
            "image/png": "[encoded data removed]",
            "text/plain": [
              "<Figure size 720x504 with 1 Axes>"
            ]
          },
          "metadata": {
            "needs_background": "light"
          }
        }
      ]
    },
    {
      "cell_type": "code",
      "metadata": {
        "id": "KZgek9IOoyoF",
        "colab": {
          "base_uri": "https://localhost:8080/",
          "height": 278
        },
        "outputId": "4302985d-11a9-4f29-dae2-e6eea8901e0d"
      },
      "source": [
        "confusion_matrix_sklearn(rf_best_clf,X_test,y_test)"
      ],
      "execution_count": 40,
      "outputs": [
        {
          "output_type": "display_data",
          "data": {
            "image/png": "[encoded data removed]",
            "text/plain": [
              "<Figure size 432x288 with 2 Axes>"
            ]
          },
          "metadata": {
            "needs_background": "light"
          }
        }
      ]
    },
    {
      "cell_type": "code",
      "metadata": {
        "id": "VTZI48r3oyuY",
        "colab": {
          "base_uri": "https://localhost:8080/",
          "height": 81
        },
        "outputId": "9dbca875-5c9d-41a9-a56d-da179807e317"
      },
      "source": [
        "tunned_RF_clf_perf = model_performance_classification_sklearn(\n",
        "    rf_best_clf, X_test, y_test\n",
        ")\n",
        "tunned_RF_clf_perf"
      ],
      "execution_count": 41,
      "outputs": [
        {
          "output_type": "execute_result",
          "data": {
            "text/html": [
              "\n",
              "  <div id=\"df-a0c0a36e-fbf9-4867-839e-32028e220f63\">\n",
              "    <div class=\"colab-df-container\">\n",
              "      <div>\n",
              "<style scoped>\n",
              "    .dataframe tbody tr th:only-of-type {\n",
              "        vertical-align: middle;\n",
              "    }\n",
              "\n",
              "    .dataframe tbody tr th {\n",
              "        vertical-align: top;\n",
              "    }\n",
              "\n",
              "    .dataframe thead th {\n",
              "        text-align: right;\n",
              "    }\n",
              "</style>\n",
              "<table border=\"1\" class=\"dataframe\">\n",
              "  <thead>\n",
              "    <tr style=\"text-align: right;\">\n",
              "      <th></th>\n",
              "      <th>Accuracy</th>\n",
              "      <th>Recall</th>\n",
              "      <th>Precision</th>\n",
              "      <th>F1</th>\n",
              "      <th>Minimum_Vs_Model_cost</th>\n",
              "    </tr>\n",
              "  </thead>\n",
              "  <tbody>\n",
              "    <tr>\n",
              "      <th>0</th>\n",
              "      <td>0.992803</td>\n",
              "      <td>0.869688</td>\n",
              "      <td>0.995138</td>\n",
              "      <td>0.928193</td>\n",
              "      <td>0.820612</td>\n",
              "    </tr>\n",
              "  </tbody>\n",
              "</table>\n",
              "</div>\n",
              "      <button class=\"colab-df-convert\" onclick=\"convertToInteractive('df-a0c0a36e-fbf9-4867-839e-32028e220f63')\"\n",
              "              title=\"Convert this dataframe to an interactive table.\"\n",
              "              style=\"display:none;\">\n",
              "        \n",
              "  <svg xmlns=\"http://www.w3.org/2000/svg\" height=\"24px\"viewBox=\"0 0 24 24\"\n",
              "       width=\"24px\">\n",
              "    <path d=\"M0 0h24v24H0V0z\" fill=\"none\"/>\n",
              "    <path d=\"M18.56 5.44l.94 2.06.94-2.06 2.06-.94-2.06-.94-.94-2.06-.94 2.06-2.06.94zm-11 1L8.5 8.5l.94-2.06 2.06-.94-2.06-.94L8.5 2.5l-.94 2.06-2.06.94zm10 10l.94 2.06.94-2.06 2.06-.94-2.06-.94-.94-2.06-.94 2.06-2.06.94z\"/><path d=\"M17.41 7.96l-1.37-1.37c-.4-.4-.92-.59-1.43-.59-.52 0-1.04.2-1.43.59L10.3 9.45l-7.72 7.72c-.78.78-.78 2.05 0 2.83L4 21.41c.39.39.9.59 1.41.59.51 0 1.02-.2 1.41-.59l7.78-7.78 2.81-2.81c.8-.78.8-2.07 0-2.86zM5.41 20L4 18.59l7.72-7.72 1.47 1.35L5.41 20z\"/>\n",
              "  </svg>\n",
              "      </button>\n",
              "      \n",
              "  <style>\n",
              "    .colab-df-container {\n",
              "      display:flex;\n",
              "      flex-wrap:wrap;\n",
              "      gap: 12px;\n",
              "    }\n",
              "\n",
              "    .colab-df-convert {\n",
              "      background-color: #E8F0FE;\n",
              "      border: none;\n",
              "      border-radius: 50%;\n",
              "      cursor: pointer;\n",
              "      display: none;\n",
              "      fill: #1967D2;\n",
              "      height: 32px;\n",
              "      padding: 0 0 0 0;\n",
              "      width: 32px;\n",
              "    }\n",
              "\n",
              "    .colab-df-convert:hover {\n",
              "      background-color: #E2EBFA;\n",
              "      box-shadow: 0px 1px 2px rgba(60, 64, 67, 0.3), 0px 1px 3px 1px rgba(60, 64, 67, 0.15);\n",
              "      fill: #174EA6;\n",
              "    }\n",
              "\n",
              "    [theme=dark] .colab-df-convert {\n",
              "      background-color: #3B4455;\n",
              "      fill: #D2E3FC;\n",
              "    }\n",
              "\n",
              "    [theme=dark] .colab-df-convert:hover {\n",
              "      background-color: #434B5C;\n",
              "      box-shadow: 0px 1px 3px 1px rgba(0, 0, 0, 0.15);\n",
              "      filter: drop-shadow(0px 1px 2px rgba(0, 0, 0, 0.3));\n",
              "      fill: #FFFFFF;\n",
              "    }\n",
              "  </style>\n",
              "\n",
              "      <script>\n",
              "        const buttonEl =\n",
              "          document.querySelector('#df-a0c0a36e-fbf9-4867-839e-32028e220f63 button.colab-df-convert');\n",
              "        buttonEl.style.display =\n",
              "          google.colab.kernel.accessAllowed ? 'block' : 'none';\n",
              "\n",
              "        async function convertToInteractive(key) {\n",
              "          const element = document.querySelector('#df-a0c0a36e-fbf9-4867-839e-32028e220f63');\n",
              "          const dataTable =\n",
              "            await google.colab.kernel.invokeFunction('convertToInteractive',\n",
              "                                                     [key], {});\n",
              "          if (!dataTable) return;\n",
              "\n",
              "          const docLinkHtml = 'Like what you see? Visit the ' +\n",
              "            '<a target=\"_blank\" href=https://colab.research.google.com/notebooks/data_table.ipynb>data table notebook</a>'\n",
              "            + ' to learn more about interactive tables.';\n",
              "          element.innerHTML = '';\n",
              "          dataTable['output_type'] = 'display_data';\n",
              "          await google.colab.output.renderOutput(dataTable, element);\n",
              "          const docLink = document.createElement('div');\n",
              "          docLink.innerHTML = docLinkHtml;\n",
              "          element.appendChild(docLink);\n",
              "        }\n",
              "      </script>\n",
              "    </div>\n",
              "  </div>\n",
              "  "
            ],
            "text/plain": [
              "   Accuracy    Recall  Precision        F1  Minimum_Vs_Model_cost\n",
              "0  0.992803  0.869688   0.995138  0.928193               0.820612"
            ]
          },
          "metadata": {},
          "execution_count": 41
        }
      ]
    },
    {
      "cell_type": "code",
      "metadata": {
        "id": "K4IYvT9srE8M"
      },
      "source": [
        ""
      ],
      "execution_count": 41,
      "outputs": []
    },
    {
      "cell_type": "markdown",
      "metadata": {
        "id": "Ibu06HWDESWK"
      },
      "source": [
        "*** GRADIENT BOOSTING HYPERPARAMETER TUNNING"
      ]
    },
    {
      "cell_type": "code",
      "metadata": {
        "id": "PM81f1-pxQuW",
        "colab": {
          "base_uri": "https://localhost:8080/"
        },
        "outputId": "96041e00-b78a-41b1-faa1-36f4f651eb9e"
      },
      "source": [
        "#tunning  gradientboost model hyperparameters\n",
        "GB_pipe = Pipeline([\n",
        "    ('scaler', MinMaxScaler()),\n",
        "    ('clf', GradientBoostingClassifier()),\n",
        "])\n",
        "param_grid = {\n",
        "    \"clf__init\": [AdaBoostClassifier(random_state=1),DecisionTreeClassifier(random_state=1)],\n",
        "    \"clf__n_estimators\": np.arange(75,150,25),\n",
        "    \"clf__learning_rate\": [0.2, 0.05, 1],\n",
        "    \"clf__subsample\":[0.5,0.7],\n",
        "    \"clf__max_features\":[0.5,0.7]}\n",
        "\n",
        "grid_search_tune = GridSearchCV(\n",
        "    GB_pipe, param_grid, cv=2, n_jobs=2, verbose=3)\n",
        "grid_search_tune.fit(x_smote, y_smote)\n",
        "\n",
        "print(\"Best parameters set:\")\n",
        "print(grid_search_tune.best_estimator_.steps)\n",
        "\n",
        "# measuring performance on test set\n",
        "print(\"Applying best classifier on test data:\")\n",
        "gb_best_clf = grid_search_tune.best_estimator_\n",
        "predictions = gb_best_clf.predict(X_test)"
      ],
      "execution_count": 42,
      "outputs": [
        {
          "output_type": "stream",
          "name": "stdout",
          "text": [
            "Fitting 2 folds for each of 72 candidates, totalling 144 fits\n",
            "Best parameters set:\n",
            "[('scaler', MinMaxScaler()), ('clf', GradientBoostingClassifier(init=AdaBoostClassifier(random_state=1),\n",
            "                           learning_rate=1, max_features=0.5, subsample=0.7))]\n",
            "Applying best classifier on test data:\n"
          ]
        }
      ]
    },
    {
      "cell_type": "code",
      "metadata": {
        "id": "2TRP2WyZBnJg",
        "colab": {
          "base_uri": "https://localhost:8080/",
          "height": 283
        },
        "outputId": "3baaa4e8-9e5b-4f74-8f28-6110a51f0d59"
      },
      "source": [
        "confusion_matrix_sklearn(gb_best_clf,X_test,y_test)"
      ],
      "execution_count": 43,
      "outputs": [
        {
          "output_type": "display_data",
          "data": {
            "image/png": "[encoded data removed]",
            "text/plain": [
              "<Figure size 432x288 with 2 Axes>"
            ]
          },
          "metadata": {
            "needs_background": "light"
          }
        }
      ]
    },
    {
      "cell_type": "code",
      "metadata": {
        "id": "ZiWRjPYdBncU",
        "colab": {
          "base_uri": "https://localhost:8080/",
          "height": 81
        },
        "outputId": "e52bd4a7-d001-4fad-9718-89c0f3a639f4"
      },
      "source": [
        "tunned_gradient_clf_perf = model_performance_classification_sklearn(\n",
        "    gb_best_clf, X_test, y_test\n",
        ")\n",
        "tunned_gradient_clf_perf"
      ],
      "execution_count": 44,
      "outputs": [
        {
          "output_type": "execute_result",
          "data": {
            "text/html": [
              "\n",
              "  <div id=\"df-b8b1975d-d57d-46c4-8363-6db92fc89d2d\">\n",
              "    <div class=\"colab-df-container\">\n",
              "      <div>\n",
              "<style scoped>\n",
              "    .dataframe tbody tr th:only-of-type {\n",
              "        vertical-align: middle;\n",
              "    }\n",
              "\n",
              "    .dataframe tbody tr th {\n",
              "        vertical-align: top;\n",
              "    }\n",
              "\n",
              "    .dataframe thead th {\n",
              "        text-align: right;\n",
              "    }\n",
              "</style>\n",
              "<table border=\"1\" class=\"dataframe\">\n",
              "  <thead>\n",
              "    <tr style=\"text-align: right;\">\n",
              "      <th></th>\n",
              "      <th>Accuracy</th>\n",
              "      <th>Recall</th>\n",
              "      <th>Precision</th>\n",
              "      <th>F1</th>\n",
              "      <th>Minimum_Vs_Model_cost</th>\n",
              "    </tr>\n",
              "  </thead>\n",
              "  <tbody>\n",
              "    <tr>\n",
              "      <th>0</th>\n",
              "      <td>0.959924</td>\n",
              "      <td>0.907932</td>\n",
              "      <td>0.58009</td>\n",
              "      <td>0.707896</td>\n",
              "      <td>0.728586</td>\n",
              "    </tr>\n",
              "  </tbody>\n",
              "</table>\n",
              "</div>\n",
              "      <button class=\"colab-df-convert\" onclick=\"convertToInteractive('df-b8b1975d-d57d-46c4-8363-6db92fc89d2d')\"\n",
              "              title=\"Convert this dataframe to an interactive table.\"\n",
              "              style=\"display:none;\">\n",
              "        \n",
              "  <svg xmlns=\"http://www.w3.org/2000/svg\" height=\"24px\"viewBox=\"0 0 24 24\"\n",
              "       width=\"24px\">\n",
              "    <path d=\"M0 0h24v24H0V0z\" fill=\"none\"/>\n",
              "    <path d=\"M18.56 5.44l.94 2.06.94-2.06 2.06-.94-2.06-.94-.94-2.06-.94 2.06-2.06.94zm-11 1L8.5 8.5l.94-2.06 2.06-.94-2.06-.94L8.5 2.5l-.94 2.06-2.06.94zm10 10l.94 2.06.94-2.06 2.06-.94-2.06-.94-.94-2.06-.94 2.06-2.06.94z\"/><path d=\"M17.41 7.96l-1.37-1.37c-.4-.4-.92-.59-1.43-.59-.52 0-1.04.2-1.43.59L10.3 9.45l-7.72 7.72c-.78.78-.78 2.05 0 2.83L4 21.41c.39.39.9.59 1.41.59.51 0 1.02-.2 1.41-.59l7.78-7.78 2.81-2.81c.8-.78.8-2.07 0-2.86zM5.41 20L4 18.59l7.72-7.72 1.47 1.35L5.41 20z\"/>\n",
              "  </svg>\n",
              "      </button>\n",
              "      \n",
              "  <style>\n",
              "    .colab-df-container {\n",
              "      display:flex;\n",
              "      flex-wrap:wrap;\n",
              "      gap: 12px;\n",
              "    }\n",
              "\n",
              "    .colab-df-convert {\n",
              "      background-color: #E8F0FE;\n",
              "      border: none;\n",
              "      border-radius: 50%;\n",
              "      cursor: pointer;\n",
              "      display: none;\n",
              "      fill: #1967D2;\n",
              "      height: 32px;\n",
              "      padding: 0 0 0 0;\n",
              "      width: 32px;\n",
              "    }\n",
              "\n",
              "    .colab-df-convert:hover {\n",
              "      background-color: #E2EBFA;\n",
              "      box-shadow: 0px 1px 2px rgba(60, 64, 67, 0.3), 0px 1px 3px 1px rgba(60, 64, 67, 0.15);\n",
              "      fill: #174EA6;\n",
              "    }\n",
              "\n",
              "    [theme=dark] .colab-df-convert {\n",
              "      background-color: #3B4455;\n",
              "      fill: #D2E3FC;\n",
              "    }\n",
              "\n",
              "    [theme=dark] .colab-df-convert:hover {\n",
              "      background-color: #434B5C;\n",
              "      box-shadow: 0px 1px 3px 1px rgba(0, 0, 0, 0.15);\n",
              "      filter: drop-shadow(0px 1px 2px rgba(0, 0, 0, 0.3));\n",
              "      fill: #FFFFFF;\n",
              "    }\n",
              "  </style>\n",
              "\n",
              "      <script>\n",
              "        const buttonEl =\n",
              "          document.querySelector('#df-b8b1975d-d57d-46c4-8363-6db92fc89d2d button.colab-df-convert');\n",
              "        buttonEl.style.display =\n",
              "          google.colab.kernel.accessAllowed ? 'block' : 'none';\n",
              "\n",
              "        async function convertToInteractive(key) {\n",
              "          const element = document.querySelector('#df-b8b1975d-d57d-46c4-8363-6db92fc89d2d');\n",
              "          const dataTable =\n",
              "            await google.colab.kernel.invokeFunction('convertToInteractive',\n",
              "                                                     [key], {});\n",
              "          if (!dataTable) return;\n",
              "\n",
              "          const docLinkHtml = 'Like what you see? Visit the ' +\n",
              "            '<a target=\"_blank\" href=https://colab.research.google.com/notebooks/data_table.ipynb>data table notebook</a>'\n",
              "            + ' to learn more about interactive tables.';\n",
              "          element.innerHTML = '';\n",
              "          dataTable['output_type'] = 'display_data';\n",
              "          await google.colab.output.renderOutput(dataTable, element);\n",
              "          const docLink = document.createElement('div');\n",
              "          docLink.innerHTML = docLinkHtml;\n",
              "          element.appendChild(docLink);\n",
              "        }\n",
              "      </script>\n",
              "    </div>\n",
              "  </div>\n",
              "  "
            ],
            "text/plain": [
              "   Accuracy    Recall  Precision        F1  Minimum_Vs_Model_cost\n",
              "0  0.959924  0.907932    0.58009  0.707896               0.728586"
            ]
          },
          "metadata": {},
          "execution_count": 44
        }
      ]
    },
    {
      "cell_type": "code",
      "metadata": {
        "id": "OcbHuCaHm0AE"
      },
      "source": [
        ""
      ],
      "execution_count": 44,
      "outputs": []
    },
    {
      "cell_type": "code",
      "metadata": {
        "id": "gFESA93idsx8",
        "colab": {
          "base_uri": "https://localhost:8080/",
          "height": 224
        },
        "outputId": "7628807d-2d2d-4d4b-d8e5-2abe1a1a952c"
      },
      "source": [
        "#compares and presents the performances of all the models on a data frame(post-tunning)\n",
        "tunned_models_comp_df = pd.concat(\n",
        "    [\n",
        "        tunned_RF_clf_perf.T,\n",
        "        tunned_gradient_clf_perf.T,\n",
        "    ],\n",
        "    axis=1,\n",
        ")\n",
        "tunned_models_comp_df.columns = [\n",
        "  \n",
        "    \"Random Forest\",\n",
        "    \"GradientBoost\"\n",
        "]\n",
        "print(\"Model Evaluationdata performance comparison:\")\n",
        "tunned_models_comp_df"
      ],
      "execution_count": 45,
      "outputs": [
        {
          "output_type": "stream",
          "name": "stdout",
          "text": [
            "Model Evaluationdata performance comparison:\n"
          ]
        },
        {
          "output_type": "execute_result",
          "data": {
            "text/html": [
              "\n",
              "  <div id=\"df-67ad1da7-e484-4e14-855f-25105d4e5b14\">\n",
              "    <div class=\"colab-df-container\">\n",
              "      <div>\n",
              "<style scoped>\n",
              "    .dataframe tbody tr th:only-of-type {\n",
              "        vertical-align: middle;\n",
              "    }\n",
              "\n",
              "    .dataframe tbody tr th {\n",
              "        vertical-align: top;\n",
              "    }\n",
              "\n",
              "    .dataframe thead th {\n",
              "        text-align: right;\n",
              "    }\n",
              "</style>\n",
              "<table border=\"1\" class=\"dataframe\">\n",
              "  <thead>\n",
              "    <tr style=\"text-align: right;\">\n",
              "      <th></th>\n",
              "      <th>Random Forest</th>\n",
              "      <th>GradientBoost</th>\n",
              "    </tr>\n",
              "  </thead>\n",
              "  <tbody>\n",
              "    <tr>\n",
              "      <th>Accuracy</th>\n",
              "      <td>0.992803</td>\n",
              "      <td>0.959924</td>\n",
              "    </tr>\n",
              "    <tr>\n",
              "      <th>Recall</th>\n",
              "      <td>0.869688</td>\n",
              "      <td>0.907932</td>\n",
              "    </tr>\n",
              "    <tr>\n",
              "      <th>Precision</th>\n",
              "      <td>0.995138</td>\n",
              "      <td>0.580090</td>\n",
              "    </tr>\n",
              "    <tr>\n",
              "      <th>F1</th>\n",
              "      <td>0.928193</td>\n",
              "      <td>0.707896</td>\n",
              "    </tr>\n",
              "    <tr>\n",
              "      <th>Minimum_Vs_Model_cost</th>\n",
              "      <td>0.820612</td>\n",
              "      <td>0.728586</td>\n",
              "    </tr>\n",
              "  </tbody>\n",
              "</table>\n",
              "</div>\n",
              "      <button class=\"colab-df-convert\" onclick=\"convertToInteractive('df-67ad1da7-e484-4e14-855f-25105d4e5b14')\"\n",
              "              title=\"Convert this dataframe to an interactive table.\"\n",
              "              style=\"display:none;\">\n",
              "        \n",
              "  <svg xmlns=\"http://www.w3.org/2000/svg\" height=\"24px\"viewBox=\"0 0 24 24\"\n",
              "       width=\"24px\">\n",
              "    <path d=\"M0 0h24v24H0V0z\" fill=\"none\"/>\n",
              "    <path d=\"M18.56 5.44l.94 2.06.94-2.06 2.06-.94-2.06-.94-.94-2.06-.94 2.06-2.06.94zm-11 1L8.5 8.5l.94-2.06 2.06-.94-2.06-.94L8.5 2.5l-.94 2.06-2.06.94zm10 10l.94 2.06.94-2.06 2.06-.94-2.06-.94-.94-2.06-.94 2.06-2.06.94z\"/><path d=\"M17.41 7.96l-1.37-1.37c-.4-.4-.92-.59-1.43-.59-.52 0-1.04.2-1.43.59L10.3 9.45l-7.72 7.72c-.78.78-.78 2.05 0 2.83L4 21.41c.39.39.9.59 1.41.59.51 0 1.02-.2 1.41-.59l7.78-7.78 2.81-2.81c.8-.78.8-2.07 0-2.86zM5.41 20L4 18.59l7.72-7.72 1.47 1.35L5.41 20z\"/>\n",
              "  </svg>\n",
              "      </button>\n",
              "      \n",
              "  <style>\n",
              "    .colab-df-container {\n",
              "      display:flex;\n",
              "      flex-wrap:wrap;\n",
              "      gap: 12px;\n",
              "    }\n",
              "\n",
              "    .colab-df-convert {\n",
              "      background-color: #E8F0FE;\n",
              "      border: none;\n",
              "      border-radius: 50%;\n",
              "      cursor: pointer;\n",
              "      display: none;\n",
              "      fill: #1967D2;\n",
              "      height: 32px;\n",
              "      padding: 0 0 0 0;\n",
              "      width: 32px;\n",
              "    }\n",
              "\n",
              "    .colab-df-convert:hover {\n",
              "      background-color: #E2EBFA;\n",
              "      box-shadow: 0px 1px 2px rgba(60, 64, 67, 0.3), 0px 1px 3px 1px rgba(60, 64, 67, 0.15);\n",
              "      fill: #174EA6;\n",
              "    }\n",
              "\n",
              "    [theme=dark] .colab-df-convert {\n",
              "      background-color: #3B4455;\n",
              "      fill: #D2E3FC;\n",
              "    }\n",
              "\n",
              "    [theme=dark] .colab-df-convert:hover {\n",
              "      background-color: #434B5C;\n",
              "      box-shadow: 0px 1px 3px 1px rgba(0, 0, 0, 0.15);\n",
              "      filter: drop-shadow(0px 1px 2px rgba(0, 0, 0, 0.3));\n",
              "      fill: #FFFFFF;\n",
              "    }\n",
              "  </style>\n",
              "\n",
              "      <script>\n",
              "        const buttonEl =\n",
              "          document.querySelector('#df-67ad1da7-e484-4e14-855f-25105d4e5b14 button.colab-df-convert');\n",
              "        buttonEl.style.display =\n",
              "          google.colab.kernel.accessAllowed ? 'block' : 'none';\n",
              "\n",
              "        async function convertToInteractive(key) {\n",
              "          const element = document.querySelector('#df-67ad1da7-e484-4e14-855f-25105d4e5b14');\n",
              "          const dataTable =\n",
              "            await google.colab.kernel.invokeFunction('convertToInteractive',\n",
              "                                                     [key], {});\n",
              "          if (!dataTable) return;\n",
              "\n",
              "          const docLinkHtml = 'Like what you see? Visit the ' +\n",
              "            '<a target=\"_blank\" href=https://colab.research.google.com/notebooks/data_table.ipynb>data table notebook</a>'\n",
              "            + ' to learn more about interactive tables.';\n",
              "          element.innerHTML = '';\n",
              "          dataTable['output_type'] = 'display_data';\n",
              "          await google.colab.output.renderOutput(dataTable, element);\n",
              "          const docLink = document.createElement('div');\n",
              "          docLink.innerHTML = docLinkHtml;\n",
              "          element.appendChild(docLink);\n",
              "        }\n",
              "      </script>\n",
              "    </div>\n",
              "  </div>\n",
              "  "
            ],
            "text/plain": [
              "                       Random Forest  GradientBoost\n",
              "Accuracy                    0.992803       0.959924\n",
              "Recall                      0.869688       0.907932\n",
              "Precision                   0.995138       0.580090\n",
              "F1                          0.928193       0.707896\n",
              "Minimum_Vs_Model_cost       0.820612       0.728586"
            ]
          },
          "metadata": {},
          "execution_count": 45
        }
      ]
    },
    {
      "cell_type": "markdown",
      "metadata": {
        "id": "nHelF-EQHXxh"
      },
      "source": [
        "### observation ###\n",
        " we can observe from the comaprism table above the performances of the two classifers used, and we can clearly see, that the Random forest classifer performed better than the other two, with an improved F1 score of 0.92, and a model accuracy score of 0.99, which means that we can trust in the models capability to give off accurate predictions of our target label. Than the Gradient Boost which has an f1 score of 0.70\n",
        "- ** note **\n",
        "we see an improved recall score, when compared with the models performance on the over sampled data set and an improved minimum vs model cost as well(0.82) which is greater than the 0.78 threshold.\n",
        "- Thus, Random Forest Model is our model of choice to give off accurate and precise predictions in this classification problem."
      ]
    },
    {
      "cell_type": "markdown",
      "metadata": {
        "id": "KwzN1c8oKsmw"
      },
      "source": [
        "PRODUCTIONIZING THE FINAL MODEL"
      ]
    },
    {
      "cell_type": "markdown",
      "metadata": {
        "id": "fFdkJrlZ-gEs"
      },
      "source": [
        "we productionize our final model by testing it on the test data set, which has about 10,000 data observations, and has already been prepped and ready for our model. and getting it ready in a pipeline environment"
      ]
    },
    {
      "cell_type": "code",
      "metadata": {
        "id": "pJ1po2mbLzru"
      },
      "source": [
        "# Synthetic Minority Over Sampling Technique\n",
        "sm = SMOTE(sampling_strategy=1, k_neighbors=5, random_state=1)\n",
        "X, y = sm.fit_resample(x, y)"
      ],
      "execution_count": 46,
      "outputs": []
    },
    {
      "cell_type": "code",
      "metadata": {
        "id": "QY9hZcrYKxlr",
        "colab": {
          "base_uri": "https://localhost:8080/"
        },
        "outputId": "205d20a0-a739-44ba-f38c-b1edc9457e88"
      },
      "source": [
        "#Final Model\n",
        "RF_pipe = Pipeline([\n",
        "    ('scaler', MinMaxScaler()),\n",
        "    ('clf', RandomForestClassifier()),\n",
        "])\n",
        "param_grid = {\n",
        "    \"clf__n_estimators\": [150,250],\n",
        "    \"clf__min_samples_leaf\": np.arange(1, 3),\n",
        "    \"clf__max_features\": ['sqrt','log2'],\n",
        "    \"clf__max_samples\": np.arange(0.2, 0.6, 0.1)}\n",
        "grid_search_tune = GridSearchCV(RF_pipe, param_grid, cv=2, n_jobs=2, verbose=3)\n",
        "grid_search_tune.fit(X, y)\n",
        "\n",
        "print(\"Best parameters set:\")\n",
        "print(grid_search_tune.best_estimator_.steps)\n",
        "\n",
        "# measuring performance on test set\n",
        "print(\"Applying best classifier on test data:\")\n",
        "rf_best_clf = grid_search_tune.best_estimator_\n",
        "predictions = rf_best_clf.predict(test_data)"
      ],
      "execution_count": 48,
      "outputs": [
        {
          "output_type": "stream",
          "name": "stdout",
          "text": [
            "Fitting 2 folds for each of 32 candidates, totalling 64 fits\n",
            "Best parameters set:\n",
            "[('scaler', MinMaxScaler()), ('clf', RandomForestClassifier(max_features='sqrt', max_samples=0.5000000000000001,\n",
            "                       n_estimators=250))]\n",
            "Applying best classifier on test data:\n"
          ]
        }
      ]
    },
    {
      "cell_type": "code",
      "metadata": {
        "id": "QbEhAcZj_Z4Z",
        "colab": {
          "base_uri": "https://localhost:8080/"
        },
        "outputId": "2f47c62d-5b73-4a05-9b0a-84ecec5e6bb8"
      },
      "source": [
        "predictions"
      ],
      "execution_count": 49,
      "outputs": [
        {
          "output_type": "execute_result",
          "data": {
            "text/plain": [
              "array([0, 0, 0, ..., 0, 0, 0])"
            ]
          },
          "metadata": {},
          "execution_count": 49
        }
      ]
    },
    {
      "cell_type": "code",
      "metadata": {
        "id": "HMopH2KD1q4L"
      },
      "source": [
        "# Serializing the best model for subsequent and easy usage\n",
        "with open('pipe.pkl', 'wb') as file:\n",
        "    pickle.dump(rf_best_clf, file)"
      ],
      "execution_count": 50,
      "outputs": []
    },
    {
      "cell_type": "markdown",
      "metadata": {
        "id": "_F6hAm0Gb3ml"
      },
      "source": [
        "MAINTAINANCE INSIGHTS AND CONCLUSION\n",
        "- In conclusion, we have identified the most important feature 'V13', amongst other features that play a key role in early prediction of generator failure.\n",
        "however the key recommendation here is for the compay to explore other predictive models that are ouside of the scope of the two models being used  models used in this project, for instances Deep learning etc to further explore other models that may perform considerably better than our adopted model"
      ]
    },
    {
      "cell_type": "markdown",
      "metadata": {
        "id": "frwafQz9iYWN"
      },
      "source": [
        ""
      ]
    }
  ]
}